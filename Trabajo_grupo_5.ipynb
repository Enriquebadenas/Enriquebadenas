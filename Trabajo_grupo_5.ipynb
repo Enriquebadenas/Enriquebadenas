{
  "cells": [
    {
      "cell_type": "markdown",
      "metadata": {
        "id": "view-in-github",
        "colab_type": "text"
      },
      "source": [
        "<a href=\"https://colab.research.google.com/github/Enriquebadenas/Enriquebadenas/blob/main/Trabajo_grupo_5.ipynb\" target=\"_parent\"><img src=\"https://colab.research.google.com/assets/colab-badge.svg\" alt=\"Open In Colab\"/></a>"
      ]
    },
    {
      "cell_type": "markdown",
      "source": [
        "**TRABAJO GRUPAL. GRUPO 5 - 24 DE DICIEMBRE.**\n"
      ],
      "metadata": {
        "id": "fWUlL6wNYX5Q"
      }
    },
    {
      "cell_type": "markdown",
      "source": [
        "**Introducción**"
      ],
      "metadata": {
        "id": "-gkGQea9YUIV"
      }
    },
    {
      "cell_type": "markdown",
      "source": [
        "\n",
        "\n",
        "Hemos escogido el dataset “SydneyHousePrices”, que nos habla sobre cómo han variado los precios de venta de las propiedades en un periodo de tiempo establecido. La muestra estadística es de n=199504, resulta muy interesante poder analizar sus datos pero a la vez ha resultado un tanto problemático debido a la gran cantidad de datos a analizar, por lo que el proceso de limpieza, organización de tareas, relación de variables ha sido de gran dificultad. Sin embargo, hemos sido capaces de poder organizarnos correctamente para poder extraer el mayor número de conclusiones estadísticas a cerca del dataset.   \n",
        "\n",
        "En primer lugar hemos creado numerosos histogramas y picado código que nos muestre los estadísticos más importantes tanto a nivel escrito como visual, de esta forma ya nos íbamos haciendo una idea de cómo iba a ser el comportamiento de las variables de la muestra.\n",
        "\n",
        "A continuación, hemos escogido como variable target “sellPrice”, que hace referencia a los precios de venta de las propiedades. Al haber tanta diversidad en los precios hemos visto oportuno la recodificación de la variable en “sellPrice_str”, dividiendo los precios en tres categorías: “low rentals”, “average rentals” y “high rentals”. Esto supone transformar la variable de origen (cuantitativa) en variable cualitativa para poder analizar con mayor facilidad sus estadísticos. Sin embargo, en varias hipótesis (H3, H4, H5) hemos utilizado la variable de origen cuantitativa para poder sacar la correlación. La hipótesis más complicada de analizar ha sido la número 2, para ver si influía el código postal en el precio de venta de la vivienda.\n",
        "\n",
        "\n",
        "\n",
        "\n",
        "\n",
        "\n",
        "\n"
      ],
      "metadata": {
        "id": "4feNRsz9RF4N"
      }
    },
    {
      "cell_type": "markdown",
      "metadata": {
        "id": "hmrdyBJHCwOu"
      },
      "source": [
        "1. **Importación de librerias y del dataset.**"
      ]
    },
    {
      "cell_type": "markdown",
      "source": [
        "En este apartado, se va a proceder a la importación de las librerias, las cuales se van a utilizar para desarrollar este proyecto y el dataset escogido."
      ],
      "metadata": {
        "id": "cK6o5ShqRYN6"
      }
    },
    {
      "cell_type": "code",
      "execution_count": null,
      "metadata": {
        "colab": {
          "base_uri": "https://localhost:8080/"
        },
        "id": "2bp4hV-hCgV6",
        "outputId": "f5d3e8c8-da49-4f5e-f237-6bef32653b54"
      },
      "outputs": [
        {
          "output_type": "stream",
          "name": "stdout",
          "text": [
            "Drive already mounted at mydrive; to attempt to forcibly remount, call drive.mount(\"mydrive\", force_remount=True).\n"
          ]
        }
      ],
      "source": [
        "\n",
        "import os\n",
        "from google.colab import drive \n",
        "import pandas as pd\n",
        "import numpy as np \n",
        "import matplotlib.pyplot as plt\n",
        "import scipy.stats as stats\n",
        "import seaborn as sns\n",
        "from pandas.api.types import CategoricalDtype\n",
        "import scipy.stats as stats\n",
        "import seaborn as sns\n",
        "from scipy.stats.stats import pearsonr\n",
        "from statsmodels.formula.api import ols\n",
        "#from stargazer.stargazer import Stargazer\n",
        "\n",
        "drive.mount('mydrive')"
      ]
    },
    {
      "cell_type": "code",
      "execution_count": null,
      "metadata": {
        "id": "0sHa77OiC6HX"
      },
      "outputs": [],
      "source": [
        "# RUTA DE LECTURA DEL FICHERO DE DATOS\n",
        "#df = pd.read_csv('/content/mydrive/MyDrive/TRABAJO 24 D EDEM/SydneyHousePrices.csv', parse_dates=['Date'], index_col=['Date']) \n",
        "df = pd.read_csv('/content/mydrive/MyDrive/Colab Notebooks/SydneyHousePrices.csv', parse_dates=['Date'], index_col=['Date'])\n",
        "#df = pd.read_csv('/content/mydrive/MyDrive/Colab Notebooks/SydneyHousePrices.csv')  "
      ]
    },
    {
      "cell_type": "code",
      "execution_count": null,
      "metadata": {
        "colab": {
          "base_uri": "https://localhost:8080/",
          "height": 455
        },
        "id": "xoI3b7jSFW__",
        "outputId": "b5d9c67f-c587-4694-9f11-76ab6b674f71"
      },
      "outputs": [
        {
          "output_type": "execute_result",
          "data": {
            "text/html": [
              "\n",
              "  <div id=\"df-447792d0-18c0-43d5-9046-0ed34e19ed6e\">\n",
              "    <div class=\"colab-df-container\">\n",
              "      <div>\n",
              "<style scoped>\n",
              "    .dataframe tbody tr th:only-of-type {\n",
              "        vertical-align: middle;\n",
              "    }\n",
              "\n",
              "    .dataframe tbody tr th {\n",
              "        vertical-align: top;\n",
              "    }\n",
              "\n",
              "    .dataframe thead th {\n",
              "        text-align: right;\n",
              "    }\n",
              "</style>\n",
              "<table border=\"1\" class=\"dataframe\">\n",
              "  <thead>\n",
              "    <tr style=\"text-align: right;\">\n",
              "      <th></th>\n",
              "      <th>Id</th>\n",
              "      <th>suburb</th>\n",
              "      <th>postalCode</th>\n",
              "      <th>sellPrice</th>\n",
              "      <th>bed</th>\n",
              "      <th>bath</th>\n",
              "      <th>car</th>\n",
              "      <th>propType</th>\n",
              "    </tr>\n",
              "    <tr>\n",
              "      <th>Date</th>\n",
              "      <th></th>\n",
              "      <th></th>\n",
              "      <th></th>\n",
              "      <th></th>\n",
              "      <th></th>\n",
              "      <th></th>\n",
              "      <th></th>\n",
              "      <th></th>\n",
              "    </tr>\n",
              "  </thead>\n",
              "  <tbody>\n",
              "    <tr>\n",
              "      <th>2019-06-19</th>\n",
              "      <td>1</td>\n",
              "      <td>Avalon Beach</td>\n",
              "      <td>2107</td>\n",
              "      <td>1210000</td>\n",
              "      <td>4.0</td>\n",
              "      <td>2</td>\n",
              "      <td>2.0</td>\n",
              "      <td>house</td>\n",
              "    </tr>\n",
              "    <tr>\n",
              "      <th>2019-06-13</th>\n",
              "      <td>2</td>\n",
              "      <td>Avalon Beach</td>\n",
              "      <td>2107</td>\n",
              "      <td>2250000</td>\n",
              "      <td>4.0</td>\n",
              "      <td>3</td>\n",
              "      <td>4.0</td>\n",
              "      <td>house</td>\n",
              "    </tr>\n",
              "    <tr>\n",
              "      <th>2019-06-07</th>\n",
              "      <td>3</td>\n",
              "      <td>Whale Beach</td>\n",
              "      <td>2107</td>\n",
              "      <td>2920000</td>\n",
              "      <td>3.0</td>\n",
              "      <td>3</td>\n",
              "      <td>2.0</td>\n",
              "      <td>house</td>\n",
              "    </tr>\n",
              "    <tr>\n",
              "      <th>2019-05-28</th>\n",
              "      <td>4</td>\n",
              "      <td>Avalon Beach</td>\n",
              "      <td>2107</td>\n",
              "      <td>1530000</td>\n",
              "      <td>3.0</td>\n",
              "      <td>1</td>\n",
              "      <td>2.0</td>\n",
              "      <td>house</td>\n",
              "    </tr>\n",
              "    <tr>\n",
              "      <th>2019-05-22</th>\n",
              "      <td>5</td>\n",
              "      <td>Whale Beach</td>\n",
              "      <td>2107</td>\n",
              "      <td>8000000</td>\n",
              "      <td>5.0</td>\n",
              "      <td>4</td>\n",
              "      <td>4.0</td>\n",
              "      <td>house</td>\n",
              "    </tr>\n",
              "    <tr>\n",
              "      <th>...</th>\n",
              "      <td>...</td>\n",
              "      <td>...</td>\n",
              "      <td>...</td>\n",
              "      <td>...</td>\n",
              "      <td>...</td>\n",
              "      <td>...</td>\n",
              "      <td>...</td>\n",
              "      <td>...</td>\n",
              "    </tr>\n",
              "    <tr>\n",
              "      <th>2014-06-20</th>\n",
              "      <td>199500</td>\n",
              "      <td>Illawong</td>\n",
              "      <td>2234</td>\n",
              "      <td>1900000</td>\n",
              "      <td>5.0</td>\n",
              "      <td>3</td>\n",
              "      <td>7.0</td>\n",
              "      <td>house</td>\n",
              "    </tr>\n",
              "    <tr>\n",
              "      <th>2014-05-26</th>\n",
              "      <td>199501</td>\n",
              "      <td>Illawong</td>\n",
              "      <td>2234</td>\n",
              "      <td>980000</td>\n",
              "      <td>4.0</td>\n",
              "      <td>3</td>\n",
              "      <td>2.0</td>\n",
              "      <td>house</td>\n",
              "    </tr>\n",
              "    <tr>\n",
              "      <th>2014-04-17</th>\n",
              "      <td>199502</td>\n",
              "      <td>Alfords Point</td>\n",
              "      <td>2234</td>\n",
              "      <td>850000</td>\n",
              "      <td>4.0</td>\n",
              "      <td>2</td>\n",
              "      <td>2.0</td>\n",
              "      <td>house</td>\n",
              "    </tr>\n",
              "    <tr>\n",
              "      <th>2013-09-07</th>\n",
              "      <td>199503</td>\n",
              "      <td>Illawong</td>\n",
              "      <td>2234</td>\n",
              "      <td>640000</td>\n",
              "      <td>3.0</td>\n",
              "      <td>2</td>\n",
              "      <td>2.0</td>\n",
              "      <td>townhouse</td>\n",
              "    </tr>\n",
              "    <tr>\n",
              "      <th>2011-04-16</th>\n",
              "      <td>199504</td>\n",
              "      <td>Alfords Point</td>\n",
              "      <td>2234</td>\n",
              "      <td>1611000</td>\n",
              "      <td>5.0</td>\n",
              "      <td>4</td>\n",
              "      <td>3.0</td>\n",
              "      <td>house</td>\n",
              "    </tr>\n",
              "  </tbody>\n",
              "</table>\n",
              "<p>199504 rows × 8 columns</p>\n",
              "</div>\n",
              "      <button class=\"colab-df-convert\" onclick=\"convertToInteractive('df-447792d0-18c0-43d5-9046-0ed34e19ed6e')\"\n",
              "              title=\"Convert this dataframe to an interactive table.\"\n",
              "              style=\"display:none;\">\n",
              "        \n",
              "  <svg xmlns=\"http://www.w3.org/2000/svg\" height=\"24px\"viewBox=\"0 0 24 24\"\n",
              "       width=\"24px\">\n",
              "    <path d=\"M0 0h24v24H0V0z\" fill=\"none\"/>\n",
              "    <path d=\"M18.56 5.44l.94 2.06.94-2.06 2.06-.94-2.06-.94-.94-2.06-.94 2.06-2.06.94zm-11 1L8.5 8.5l.94-2.06 2.06-.94-2.06-.94L8.5 2.5l-.94 2.06-2.06.94zm10 10l.94 2.06.94-2.06 2.06-.94-2.06-.94-.94-2.06-.94 2.06-2.06.94z\"/><path d=\"M17.41 7.96l-1.37-1.37c-.4-.4-.92-.59-1.43-.59-.52 0-1.04.2-1.43.59L10.3 9.45l-7.72 7.72c-.78.78-.78 2.05 0 2.83L4 21.41c.39.39.9.59 1.41.59.51 0 1.02-.2 1.41-.59l7.78-7.78 2.81-2.81c.8-.78.8-2.07 0-2.86zM5.41 20L4 18.59l7.72-7.72 1.47 1.35L5.41 20z\"/>\n",
              "  </svg>\n",
              "      </button>\n",
              "      \n",
              "  <style>\n",
              "    .colab-df-container {\n",
              "      display:flex;\n",
              "      flex-wrap:wrap;\n",
              "      gap: 12px;\n",
              "    }\n",
              "\n",
              "    .colab-df-convert {\n",
              "      background-color: #E8F0FE;\n",
              "      border: none;\n",
              "      border-radius: 50%;\n",
              "      cursor: pointer;\n",
              "      display: none;\n",
              "      fill: #1967D2;\n",
              "      height: 32px;\n",
              "      padding: 0 0 0 0;\n",
              "      width: 32px;\n",
              "    }\n",
              "\n",
              "    .colab-df-convert:hover {\n",
              "      background-color: #E2EBFA;\n",
              "      box-shadow: 0px 1px 2px rgba(60, 64, 67, 0.3), 0px 1px 3px 1px rgba(60, 64, 67, 0.15);\n",
              "      fill: #174EA6;\n",
              "    }\n",
              "\n",
              "    [theme=dark] .colab-df-convert {\n",
              "      background-color: #3B4455;\n",
              "      fill: #D2E3FC;\n",
              "    }\n",
              "\n",
              "    [theme=dark] .colab-df-convert:hover {\n",
              "      background-color: #434B5C;\n",
              "      box-shadow: 0px 1px 3px 1px rgba(0, 0, 0, 0.15);\n",
              "      filter: drop-shadow(0px 1px 2px rgba(0, 0, 0, 0.3));\n",
              "      fill: #FFFFFF;\n",
              "    }\n",
              "  </style>\n",
              "\n",
              "      <script>\n",
              "        const buttonEl =\n",
              "          document.querySelector('#df-447792d0-18c0-43d5-9046-0ed34e19ed6e button.colab-df-convert');\n",
              "        buttonEl.style.display =\n",
              "          google.colab.kernel.accessAllowed ? 'block' : 'none';\n",
              "\n",
              "        async function convertToInteractive(key) {\n",
              "          const element = document.querySelector('#df-447792d0-18c0-43d5-9046-0ed34e19ed6e');\n",
              "          const dataTable =\n",
              "            await google.colab.kernel.invokeFunction('convertToInteractive',\n",
              "                                                     [key], {});\n",
              "          if (!dataTable) return;\n",
              "\n",
              "          const docLinkHtml = 'Like what you see? Visit the ' +\n",
              "            '<a target=\"_blank\" href=https://colab.research.google.com/notebooks/data_table.ipynb>data table notebook</a>'\n",
              "            + ' to learn more about interactive tables.';\n",
              "          element.innerHTML = '';\n",
              "          dataTable['output_type'] = 'display_data';\n",
              "          await google.colab.output.renderOutput(dataTable, element);\n",
              "          const docLink = document.createElement('div');\n",
              "          docLink.innerHTML = docLinkHtml;\n",
              "          element.appendChild(docLink);\n",
              "        }\n",
              "      </script>\n",
              "    </div>\n",
              "  </div>\n",
              "  "
            ],
            "text/plain": [
              "                Id         suburb  postalCode  ...  bath  car   propType\n",
              "Date                                           ...                      \n",
              "2019-06-19       1   Avalon Beach        2107  ...     2  2.0      house\n",
              "2019-06-13       2   Avalon Beach        2107  ...     3  4.0      house\n",
              "2019-06-07       3    Whale Beach        2107  ...     3  2.0      house\n",
              "2019-05-28       4   Avalon Beach        2107  ...     1  2.0      house\n",
              "2019-05-22       5    Whale Beach        2107  ...     4  4.0      house\n",
              "...            ...            ...         ...  ...   ...  ...        ...\n",
              "2014-06-20  199500       Illawong        2234  ...     3  7.0      house\n",
              "2014-05-26  199501       Illawong        2234  ...     3  2.0      house\n",
              "2014-04-17  199502  Alfords Point        2234  ...     2  2.0      house\n",
              "2013-09-07  199503       Illawong        2234  ...     2  2.0  townhouse\n",
              "2011-04-16  199504  Alfords Point        2234  ...     4  3.0      house\n",
              "\n",
              "[199504 rows x 8 columns]"
            ]
          },
          "metadata": {},
          "execution_count": 5
        }
      ],
      "source": [
        "df"
      ]
    },
    {
      "cell_type": "markdown",
      "metadata": {
        "id": "6PO9A1Z2vYgr"
      },
      "source": [
        "El dataset escogido trata sobre los precios de venta de las viviendas en Sydney. En este dataset hay tanto variables cualitatitivas como cuantitativas."
      ]
    },
    {
      "cell_type": "markdown",
      "metadata": {
        "id": "LOLW1jnNFdWN"
      },
      "source": [
        "2. **Limpieza de la base de datos**\n"
      ]
    },
    {
      "cell_type": "markdown",
      "metadata": {
        "id": "WfrgRXeUmxz8"
      },
      "source": [
        "*Se va a proceder a realizar la limpieza de la base de datos mediante la sustitución de los valores faltantes por su media y la eliminación de aquellas filas con valores error, algunas de ellas tenían valores de 99 unidades que carcen de sentido en el conjunto de datos. Como se puede observar a continuación, dicho proceso se ha de realizar únicamente con las variables BED, BATH y CAR para valores superiores a 10.*"
      ]
    },
    {
      "cell_type": "code",
      "execution_count": null,
      "metadata": {
        "colab": {
          "base_uri": "https://localhost:8080/",
          "height": 455
        },
        "id": "-XyKALUtDl7f",
        "outputId": "67bcab29-e8fb-4bb7-9e72-2aae530a9656"
      },
      "outputs": [
        {
          "output_type": "execute_result",
          "data": {
            "text/html": [
              "\n",
              "  <div id=\"df-ec12dc35-e3e7-4182-89bb-2b0e167736e1\">\n",
              "    <div class=\"colab-df-container\">\n",
              "      <div>\n",
              "<style scoped>\n",
              "    .dataframe tbody tr th:only-of-type {\n",
              "        vertical-align: middle;\n",
              "    }\n",
              "\n",
              "    .dataframe tbody tr th {\n",
              "        vertical-align: top;\n",
              "    }\n",
              "\n",
              "    .dataframe thead th {\n",
              "        text-align: right;\n",
              "    }\n",
              "</style>\n",
              "<table border=\"1\" class=\"dataframe\">\n",
              "  <thead>\n",
              "    <tr style=\"text-align: right;\">\n",
              "      <th></th>\n",
              "      <th>Id</th>\n",
              "      <th>suburb</th>\n",
              "      <th>postalCode</th>\n",
              "      <th>sellPrice</th>\n",
              "      <th>bed</th>\n",
              "      <th>bath</th>\n",
              "      <th>car</th>\n",
              "      <th>propType</th>\n",
              "    </tr>\n",
              "    <tr>\n",
              "      <th>Date</th>\n",
              "      <th></th>\n",
              "      <th></th>\n",
              "      <th></th>\n",
              "      <th></th>\n",
              "      <th></th>\n",
              "      <th></th>\n",
              "      <th></th>\n",
              "      <th></th>\n",
              "    </tr>\n",
              "  </thead>\n",
              "  <tbody>\n",
              "    <tr>\n",
              "      <th>2018-07-03</th>\n",
              "      <td>2243</td>\n",
              "      <td>Blacktown</td>\n",
              "      <td>2148</td>\n",
              "      <td>2300000</td>\n",
              "      <td>4.0</td>\n",
              "      <td>2</td>\n",
              "      <td>30.0</td>\n",
              "      <td>house</td>\n",
              "    </tr>\n",
              "    <tr>\n",
              "      <th>2016-10-28</th>\n",
              "      <td>4154</td>\n",
              "      <td>Plumpton</td>\n",
              "      <td>2761</td>\n",
              "      <td>809000</td>\n",
              "      <td>4.0</td>\n",
              "      <td>3</td>\n",
              "      <td>10.0</td>\n",
              "      <td>house</td>\n",
              "    </tr>\n",
              "    <tr>\n",
              "      <th>2019-04-17</th>\n",
              "      <td>4234</td>\n",
              "      <td>Plumpton</td>\n",
              "      <td>2761</td>\n",
              "      <td>720000</td>\n",
              "      <td>3.0</td>\n",
              "      <td>1</td>\n",
              "      <td>10.0</td>\n",
              "      <td>house</td>\n",
              "    </tr>\n",
              "    <tr>\n",
              "      <th>2015-07-06</th>\n",
              "      <td>6403</td>\n",
              "      <td>Eschol Park</td>\n",
              "      <td>2558</td>\n",
              "      <td>562500</td>\n",
              "      <td>3.0</td>\n",
              "      <td>1</td>\n",
              "      <td>10.0</td>\n",
              "      <td>house</td>\n",
              "    </tr>\n",
              "    <tr>\n",
              "      <th>2013-11-02</th>\n",
              "      <td>7491</td>\n",
              "      <td>Killara</td>\n",
              "      <td>2071</td>\n",
              "      <td>10000000</td>\n",
              "      <td>5.0</td>\n",
              "      <td>7</td>\n",
              "      <td>12.0</td>\n",
              "      <td>house</td>\n",
              "    </tr>\n",
              "    <tr>\n",
              "      <th>...</th>\n",
              "      <td>...</td>\n",
              "      <td>...</td>\n",
              "      <td>...</td>\n",
              "      <td>...</td>\n",
              "      <td>...</td>\n",
              "      <td>...</td>\n",
              "      <td>...</td>\n",
              "      <td>...</td>\n",
              "    </tr>\n",
              "    <tr>\n",
              "      <th>2016-07-11</th>\n",
              "      <td>196627</td>\n",
              "      <td>Denistone</td>\n",
              "      <td>2114</td>\n",
              "      <td>3790000</td>\n",
              "      <td>10.0</td>\n",
              "      <td>5</td>\n",
              "      <td>12.0</td>\n",
              "      <td>house</td>\n",
              "    </tr>\n",
              "    <tr>\n",
              "      <th>2016-08-09</th>\n",
              "      <td>198863</td>\n",
              "      <td>Glen Alpine</td>\n",
              "      <td>2560</td>\n",
              "      <td>913000</td>\n",
              "      <td>5.0</td>\n",
              "      <td>3</td>\n",
              "      <td>11.0</td>\n",
              "      <td>house</td>\n",
              "    </tr>\n",
              "    <tr>\n",
              "      <th>2014-03-04</th>\n",
              "      <td>198907</td>\n",
              "      <td>Horsley Park</td>\n",
              "      <td>2175</td>\n",
              "      <td>1375000</td>\n",
              "      <td>5.0</td>\n",
              "      <td>3</td>\n",
              "      <td>12.0</td>\n",
              "      <td>house</td>\n",
              "    </tr>\n",
              "    <tr>\n",
              "      <th>2018-04-18</th>\n",
              "      <td>199093</td>\n",
              "      <td>Illawong</td>\n",
              "      <td>2234</td>\n",
              "      <td>3205000</td>\n",
              "      <td>5.0</td>\n",
              "      <td>5</td>\n",
              "      <td>10.0</td>\n",
              "      <td>house</td>\n",
              "    </tr>\n",
              "    <tr>\n",
              "      <th>2016-11-12</th>\n",
              "      <td>199352</td>\n",
              "      <td>Alfords Point</td>\n",
              "      <td>2234</td>\n",
              "      <td>1382000</td>\n",
              "      <td>3.0</td>\n",
              "      <td>3</td>\n",
              "      <td>12.0</td>\n",
              "      <td>house</td>\n",
              "    </tr>\n",
              "  </tbody>\n",
              "</table>\n",
              "<p>285 rows × 8 columns</p>\n",
              "</div>\n",
              "      <button class=\"colab-df-convert\" onclick=\"convertToInteractive('df-ec12dc35-e3e7-4182-89bb-2b0e167736e1')\"\n",
              "              title=\"Convert this dataframe to an interactive table.\"\n",
              "              style=\"display:none;\">\n",
              "        \n",
              "  <svg xmlns=\"http://www.w3.org/2000/svg\" height=\"24px\"viewBox=\"0 0 24 24\"\n",
              "       width=\"24px\">\n",
              "    <path d=\"M0 0h24v24H0V0z\" fill=\"none\"/>\n",
              "    <path d=\"M18.56 5.44l.94 2.06.94-2.06 2.06-.94-2.06-.94-.94-2.06-.94 2.06-2.06.94zm-11 1L8.5 8.5l.94-2.06 2.06-.94-2.06-.94L8.5 2.5l-.94 2.06-2.06.94zm10 10l.94 2.06.94-2.06 2.06-.94-2.06-.94-.94-2.06-.94 2.06-2.06.94z\"/><path d=\"M17.41 7.96l-1.37-1.37c-.4-.4-.92-.59-1.43-.59-.52 0-1.04.2-1.43.59L10.3 9.45l-7.72 7.72c-.78.78-.78 2.05 0 2.83L4 21.41c.39.39.9.59 1.41.59.51 0 1.02-.2 1.41-.59l7.78-7.78 2.81-2.81c.8-.78.8-2.07 0-2.86zM5.41 20L4 18.59l7.72-7.72 1.47 1.35L5.41 20z\"/>\n",
              "  </svg>\n",
              "      </button>\n",
              "      \n",
              "  <style>\n",
              "    .colab-df-container {\n",
              "      display:flex;\n",
              "      flex-wrap:wrap;\n",
              "      gap: 12px;\n",
              "    }\n",
              "\n",
              "    .colab-df-convert {\n",
              "      background-color: #E8F0FE;\n",
              "      border: none;\n",
              "      border-radius: 50%;\n",
              "      cursor: pointer;\n",
              "      display: none;\n",
              "      fill: #1967D2;\n",
              "      height: 32px;\n",
              "      padding: 0 0 0 0;\n",
              "      width: 32px;\n",
              "    }\n",
              "\n",
              "    .colab-df-convert:hover {\n",
              "      background-color: #E2EBFA;\n",
              "      box-shadow: 0px 1px 2px rgba(60, 64, 67, 0.3), 0px 1px 3px 1px rgba(60, 64, 67, 0.15);\n",
              "      fill: #174EA6;\n",
              "    }\n",
              "\n",
              "    [theme=dark] .colab-df-convert {\n",
              "      background-color: #3B4455;\n",
              "      fill: #D2E3FC;\n",
              "    }\n",
              "\n",
              "    [theme=dark] .colab-df-convert:hover {\n",
              "      background-color: #434B5C;\n",
              "      box-shadow: 0px 1px 3px 1px rgba(0, 0, 0, 0.15);\n",
              "      filter: drop-shadow(0px 1px 2px rgba(0, 0, 0, 0.3));\n",
              "      fill: #FFFFFF;\n",
              "    }\n",
              "  </style>\n",
              "\n",
              "      <script>\n",
              "        const buttonEl =\n",
              "          document.querySelector('#df-ec12dc35-e3e7-4182-89bb-2b0e167736e1 button.colab-df-convert');\n",
              "        buttonEl.style.display =\n",
              "          google.colab.kernel.accessAllowed ? 'block' : 'none';\n",
              "\n",
              "        async function convertToInteractive(key) {\n",
              "          const element = document.querySelector('#df-ec12dc35-e3e7-4182-89bb-2b0e167736e1');\n",
              "          const dataTable =\n",
              "            await google.colab.kernel.invokeFunction('convertToInteractive',\n",
              "                                                     [key], {});\n",
              "          if (!dataTable) return;\n",
              "\n",
              "          const docLinkHtml = 'Like what you see? Visit the ' +\n",
              "            '<a target=\"_blank\" href=https://colab.research.google.com/notebooks/data_table.ipynb>data table notebook</a>'\n",
              "            + ' to learn more about interactive tables.';\n",
              "          element.innerHTML = '';\n",
              "          dataTable['output_type'] = 'display_data';\n",
              "          await google.colab.output.renderOutput(dataTable, element);\n",
              "          const docLink = document.createElement('div');\n",
              "          docLink.innerHTML = docLinkHtml;\n",
              "          element.appendChild(docLink);\n",
              "        }\n",
              "      </script>\n",
              "    </div>\n",
              "  </div>\n",
              "  "
            ],
            "text/plain": [
              "                Id         suburb  postalCode  ...  bath   car  propType\n",
              "Date                                           ...                      \n",
              "2018-07-03    2243      Blacktown        2148  ...     2  30.0     house\n",
              "2016-10-28    4154       Plumpton        2761  ...     3  10.0     house\n",
              "2019-04-17    4234       Plumpton        2761  ...     1  10.0     house\n",
              "2015-07-06    6403    Eschol Park        2558  ...     1  10.0     house\n",
              "2013-11-02    7491        Killara        2071  ...     7  12.0     house\n",
              "...            ...            ...         ...  ...   ...   ...       ...\n",
              "2016-07-11  196627      Denistone        2114  ...     5  12.0     house\n",
              "2016-08-09  198863    Glen Alpine        2560  ...     3  11.0     house\n",
              "2014-03-04  198907   Horsley Park        2175  ...     3  12.0     house\n",
              "2018-04-18  199093       Illawong        2234  ...     5  10.0     house\n",
              "2016-11-12  199352  Alfords Point        2234  ...     3  12.0     house\n",
              "\n",
              "[285 rows x 8 columns]"
            ]
          },
          "metadata": {},
          "execution_count": 6
        }
      ],
      "source": [
        "df_mask=df['bed']>= 10\n",
        "filtered_df = df[df_mask]\n",
        "filtered_df\n",
        "\n",
        "df_mask1=df['bath']>= 10\n",
        "filtered_df1 = df[df_mask1]\n",
        "filtered_df1\n",
        "\n",
        "df_mask2=df['car']>= 10\n",
        "filtered_df2 = df[df_mask2]\n",
        "filtered_df2"
      ]
    },
    {
      "cell_type": "code",
      "execution_count": null,
      "metadata": {
        "id": "CQSgs3bsEvyI"
      },
      "outputs": [],
      "source": [
        "df = df.drop(df[df['bed']>=10].index)\n",
        "df = df.drop(df[df['bath']>=10].index)\n",
        "df = df.drop(df[df['car']>=10].index)\n"
      ]
    },
    {
      "cell_type": "code",
      "execution_count": null,
      "metadata": {
        "colab": {
          "base_uri": "https://localhost:8080/",
          "height": 594
        },
        "id": "u2i1ZJGnFhfb",
        "outputId": "a9e91cf2-2a4f-425c-8098-b4e80a5526f6"
      },
      "outputs": [
        {
          "output_type": "stream",
          "name": "stdout",
          "text": [
            "<class 'pandas.core.frame.DataFrame'>\n",
            "DatetimeIndex: 167760 entries, 2019-06-19 to 2011-04-16\n",
            "Data columns (total 8 columns):\n",
            " #   Column      Non-Null Count   Dtype  \n",
            "---  ------      --------------   -----  \n",
            " 0   Id          167760 non-null  int64  \n",
            " 1   suburb      167760 non-null  object \n",
            " 2   postalCode  167760 non-null  int64  \n",
            " 3   sellPrice   167760 non-null  int64  \n",
            " 4   bed         167627 non-null  float64\n",
            " 5   bath        167760 non-null  int64  \n",
            " 6   car         152249 non-null  float64\n",
            " 7   propType    167760 non-null  object \n",
            "dtypes: float64(2), int64(4), object(2)\n",
            "memory usage: 11.5+ MB\n"
          ]
        },
        {
          "output_type": "execute_result",
          "data": {
            "text/plain": [
              "<matplotlib.axes._subplots.AxesSubplot at 0x7fb5a6ccf710>"
            ]
          },
          "metadata": {},
          "execution_count": 8
        },
        {
          "output_type": "display_data",
          "data": {
            "image/png": "[encoded data removed]",
            "text/plain": [
              "<Figure size 432x288 with 1 Axes>"
            ]
          },
          "metadata": {
            "needs_background": "light"
          }
        }
      ],
      "source": [
        "df.isnull()\n",
        "df.info(verbose=True,null_counts=True)\n",
        "sns.heatmap(df.isnull(), cbar=False)"
      ]
    },
    {
      "cell_type": "code",
      "execution_count": null,
      "metadata": {
        "colab": {
          "base_uri": "https://localhost:8080/",
          "height": 334
        },
        "id": "wPqnvvbkjhjv",
        "outputId": "7b47704d-543c-44e5-ad3b-770dc00f0f38"
      },
      "outputs": [
        {
          "output_type": "execute_result",
          "data": {
            "text/plain": [
              "<matplotlib.axes._subplots.AxesSubplot at 0x7fb59d8d4150>"
            ]
          },
          "metadata": {},
          "execution_count": 9
        },
        {
          "output_type": "display_data",
          "data": {
            "image/png": "[encoded data removed]",
            "text/plain": [
              "<Figure size 432x288 with 1 Axes>"
            ]
          },
          "metadata": {
            "needs_background": "light"
          }
        }
      ],
      "source": [
        "mean_car = df.car.mean()\n",
        "df.car = df.car.fillna(mean_car)\n",
        "mean_bed = df.bed.mean()\n",
        "df.bed = df.bed.fillna(mean_bed)\n",
        "sns.heatmap(df.isnull(), cbar=False)"
      ]
    },
    {
      "cell_type": "markdown",
      "metadata": {
        "id": "J6HyZxygv3S6"
      },
      "source": [
        "Tras la realización de estos procesos obtenemos un dataset limpio, sin valores anómalos ni datos Nan (not a number). Esto nos permite ya comenzar con el análisis del dataset."
      ]
    },
    {
      "cell_type": "markdown",
      "metadata": {
        "id": "3iX6rbff1lk5"
      },
      "source": [
        "3. **Descripción de la variable target: SELLPRICE**\n",
        "\n"
      ]
    },
    {
      "cell_type": "markdown",
      "metadata": {
        "id": "tsXoEXos8zxx"
      },
      "source": [
        "En este apartado se realiza un análisis de la variable target, SELLPRICE. Este análisis se realiza mediante su descripción gráfica.\n",
        "Además con el fin de facilitar la realización de las hipótesis, se realiza la categorización de dicha variable."
      ]
    },
    {
      "cell_type": "code",
      "execution_count": null,
      "metadata": {
        "colab": {
          "base_uri": "https://localhost:8080/",
          "height": 659
        },
        "id": "7mWhE9cMmTTX",
        "outputId": "87be106a-7fdf-49c4-bff2-6c2010f7ec60"
      },
      "outputs": [
        {
          "output_type": "stream",
          "name": "stdout",
          "text": [
            "count    1.677600e+05\n",
            "mean     1.261870e+06\n",
            "std      7.564426e+06\n",
            "min      1.000000e+00\n",
            "25%      7.150000e+05\n",
            "50%      9.750000e+05\n",
            "75%      1.455000e+06\n",
            "max      2.147484e+09\n",
            "Name: sellPrice, dtype: float64\n",
            "\n",
            "col_0              count\n",
            "sellPrice_cat           \n",
            "Low price      62.218050\n",
            "Average price  22.440987\n",
            "High price     15.340963\n",
            "\n",
            "col_0          count\n",
            "sellPrice_cat       \n",
            "Low price       62.2\n",
            "Average price   22.4\n",
            "High price      15.3\n"
          ]
        },
        {
          "output_type": "display_data",
          "data": {
            "image/png": "[encoded data removed]",
            "text/plain": [
              "<Figure size 432x288 with 1 Axes>"
            ]
          },
          "metadata": {
            "needs_background": "light"
          }
        }
      ],
      "source": [
        "res = df.sellPrice.describe()\n",
        "print (res)\n",
        "print()\n",
        "\n",
        "m  = res[1]\n",
        "sd = res[2]\n",
        "n  = res[0]\n",
        "\n",
        "\n",
        "df.loc[  (df['sellPrice']<1.197500e+06) ,\"sellPrice_str\"]= \"Low price\"\n",
        "df.loc[ ((df['sellPrice']>= 1.197500e+06) & (df['sellPrice']<1.800000e+06)) ,\"sellPrice_str\"]= \"Average price\"\n",
        "df.loc[  (df['sellPrice']>=1.800000e+06) ,\"sellPrice_str\"]= \"High price\"\n",
        "\n",
        "my_categories=[\"Low price\", \"Average price\", \"High price\"]\n",
        "my_price_type = CategoricalDtype(categories=my_categories, ordered=True)\n",
        "df[\"sellPrice_cat\"] = df.sellPrice_str.astype(my_price_type)\n",
        "\n",
        "\n",
        "mytable = pd.crosstab(df.sellPrice_cat, columns=\"count\", normalize='columns')*100\n",
        "print(mytable)\n",
        "print()\n",
        "print (round(mytable,1))\n",
        "plt.bar(mytable.index, mytable['count'], color=\"paleturquoise\", edgecolor='black')\n",
        "plt.xlabel('Price range')\n",
        "plt.ylabel('Frequency')\n",
        "plt.title('Figure 1. Sell price')\n",
        "plt.show()\n"
      ]
    },
    {
      "cell_type": "markdown",
      "metadata": {
        "id": "Gb5aDFMt0NUr"
      },
      "source": [
        "En el diagrama de barras, o en la crosstab anterior, puede apreciarse como el 62% de las viviendas encajan an la categroría del rango bajo de precios, las de precio medio representan un 22%, y las de precio más alto un 15%."
      ]
    },
    {
      "cell_type": "markdown",
      "metadata": {
        "id": "9dHZUAsllvov"
      },
      "source": [
        "  4. **Descripción de las variables predictoras.**\n"
      ]
    },
    {
      "cell_type": "code",
      "execution_count": null,
      "metadata": {
        "colab": {
          "base_uri": "https://localhost:8080/"
        },
        "id": "qdmtBgcSPcKc",
        "outputId": "e6e7e5be-a908-49a2-a351-8d75f3e3de4d"
      },
      "outputs": [
        {
          "output_type": "stream",
          "name": "stdout",
          "text": [
            "<class 'pandas.core.frame.DataFrame'>\n",
            "DatetimeIndex: 167760 entries, 2019-06-19 to 2011-04-16\n",
            "Data columns (total 10 columns):\n",
            " #   Column         Non-Null Count   Dtype   \n",
            "---  ------         --------------   -----   \n",
            " 0   Id             167760 non-null  int64   \n",
            " 1   suburb         167760 non-null  object  \n",
            " 2   postalCode     167760 non-null  int64   \n",
            " 3   sellPrice      167760 non-null  int64   \n",
            " 4   bed            167760 non-null  float64 \n",
            " 5   bath           167760 non-null  int64   \n",
            " 6   car            167760 non-null  float64 \n",
            " 7   propType       167760 non-null  object  \n",
            " 8   sellPrice_str  167760 non-null  object  \n",
            " 9   sellPrice_cat  167760 non-null  category\n",
            "dtypes: category(1), float64(2), int64(4), object(3)\n",
            "memory usage: 13.0+ MB\n"
          ]
        }
      ],
      "source": [
        "df.info()"
      ]
    },
    {
      "cell_type": "markdown",
      "metadata": {
        "id": "5n07Y_Tfw3OC"
      },
      "source": [
        "Con el fin de realizar el análisis de las variables predictoras, se ha de conocer el tipo de variable que es cada una. El tipo de cada variable se muestra arriba de estas líneas."
      ]
    },
    {
      "cell_type": "markdown",
      "metadata": {
        "id": "mQbq4qjP_ioQ"
      },
      "source": [
        "4.1-Variable número de Bed\n",
        "\n",
        "\n"
      ]
    },
    {
      "cell_type": "code",
      "execution_count": null,
      "metadata": {
        "colab": {
          "base_uri": "https://localhost:8080/",
          "height": 295
        },
        "id": "sGnifRXj1-N-",
        "outputId": "fbd4acb4-403f-4333-d2f6-8dd4a34459fa"
      },
      "outputs": [
        {
          "output_type": "display_data",
          "data": {
            "image/png": "[encoded data removed]",
            "text/plain": [
              "<Figure size 432x288 with 1 Axes>"
            ]
          },
          "metadata": {
            "needs_background": "light"
          }
        }
      ],
      "source": [
        "ef = df['bed'].describe() \n",
        "n = df.bed.count() \n",
        "m_bed= df.bed.mean()\n",
        "sd_bed = df.bed.std()\n",
        "\n",
        "x = df['bed']\n",
        "plt.hist(x,edgecolor='black', color=\"lightcyan\", bins=10)\n",
        "plt.title(\"Figure 2. Number of beds\")\n",
        "plt.ylabel('Frequency')\n",
        "plt.xlabel('Number of beds')\n",
        "props = dict(boxstyle='round', facecolor='white',lw=0.5)\n",
        "textstr = '$\\mathrm{Mean}=%.1f$\\n$\\mathrm{S.D.}=%.1f$\\n$\\mathrm{n}=%.0f$'%(m_bed, sd_bed, n)\n",
        "plt.text (7.5,57000, textstr , bbox=props)\n",
        "plt.axvline(x=m_bed, linewidth=2,linestyle= 'solid', color=\"orange\", label='Mean')\n",
        "plt.show()\n"
      ]
    },
    {
      "cell_type": "markdown",
      "metadata": {
        "id": "Xmhoh1AplJg2"
      },
      "source": [
        "La media de todas las casas incluidas en el dataset dispone de 3,5 dormitorios en los 167760 datos de la muestra. La desviación estándar es de 1.0 . La media de 3.5 indica que en el promedio de las muestras observadas, la mayoría de viviendas del dataset disponde de 3 o 4 dormitorios. "
      ]
    },
    {
      "cell_type": "markdown",
      "metadata": {
        "id": "o1Vpi-m2DAcY"
      },
      "source": [
        "4.2- Varaible número de Bath"
      ]
    },
    {
      "cell_type": "code",
      "execution_count": null,
      "metadata": {
        "colab": {
          "base_uri": "https://localhost:8080/",
          "height": 417
        },
        "id": "mTNoxdE7DHGn",
        "outputId": "2f9f19a1-9270-4477-e319-d5b97d6656d7"
      },
      "outputs": [
        {
          "output_type": "display_data",
          "data": {
            "image/png": "[encoded data removed]",
            "text/plain": [
              "<Figure size 432x288 with 1 Axes>"
            ]
          },
          "metadata": {
            "needs_background": "light"
          }
        },
        {
          "output_type": "stream",
          "name": "stdout",
          "text": [
            "Date\n",
            "2019-05-28    1\n",
            "2019-04-13    1\n",
            "2019-04-11    1\n",
            "2019-02-20    1\n",
            "2018-12-21    1\n",
            "Name: bath, dtype: int64\n"
          ]
        }
      ],
      "source": [
        "efe = df['bath'].describe() \n",
        "efe\n",
        "n = df.bath.count() \n",
        "m_bath= df.bath.mean()\n",
        "sd_bath = df.bath.std()\n",
        "\n",
        "x = df['bath']\n",
        "plt.hist(x,edgecolor='black', color=\"lightcyan\", bins=10)\n",
        "plt.title(\"Figure 3. Number of baths\")\n",
        "plt.ylabel('Frequency')\n",
        "plt.xlabel('Number of baths')\n",
        "props = dict(boxstyle='round', facecolor='white',lw=0.5)\n",
        "textstr = '$\\mathrm{Mean}=%.1f$\\n$\\mathrm{S.D.}=%.1f$\\n$\\mathrm{n}=%.0f$'%(m_bath, sd_bath, n)\n",
        "plt.text (7.5,60000, textstr , bbox=props)\n",
        "plt.axvline(x=m_bath, linewidth=2,linestyle= 'solid', color=\"orange\", label='Mean')\n",
        "plt.show()\n",
        "\n",
        "print(df.bath.nsmallest(5))"
      ]
    },
    {
      "cell_type": "markdown",
      "metadata": {
        "id": "ek3glvM4mdKq"
      },
      "source": [
        "La media de todas las casas incluidas en el dataset dispone de 1.9 baños en los 167760 datos de la muestra. La desviación estándar es de 0.9 . La media de baños en las viviendas del dataset dispone de \"casi\" dos baños, lo que se puede interpretar con que al menos disponen de uno y muchas de ellas diponen de 2 o más baños, colocando la media en 1.9. Hemos comprobado que en el dataset no hay viviendas con cero baños."
      ]
    },
    {
      "cell_type": "markdown",
      "metadata": {
        "id": "WiBKKqW_GZW7"
      },
      "source": [
        "4.3- Variable número de plazas párking, Car"
      ]
    },
    {
      "cell_type": "code",
      "execution_count": null,
      "metadata": {
        "colab": {
          "base_uri": "https://localhost:8080/",
          "height": 573
        },
        "id": "A_hTFLQUG3ob",
        "outputId": "bcb5d927-12f0-4fff-e61b-2651364d31d4"
      },
      "outputs": [
        {
          "output_type": "stream",
          "name": "stdout",
          "text": [
            "count    167760.000000\n",
            "mean          1.916531\n",
            "std           0.919145\n",
            "min           1.000000\n",
            "25%           1.000000\n",
            "50%           2.000000\n",
            "75%           2.000000\n",
            "max           9.000000\n",
            "Name: car, dtype: float64\n"
          ]
        },
        {
          "output_type": "display_data",
          "data": {
            "image/png": "[encoded data removed]",
            "text/plain": [
              "<Figure size 432x288 with 1 Axes>"
            ]
          },
          "metadata": {
            "needs_background": "light"
          }
        },
        {
          "output_type": "stream",
          "name": "stdout",
          "text": [
            "Date\n",
            "2018-12-21    1.0\n",
            "2018-12-05    1.0\n",
            "2018-11-20    1.0\n",
            "2018-10-10    1.0\n",
            "2018-08-17    1.0\n",
            "Name: car, dtype: float64\n"
          ]
        }
      ],
      "source": [
        "efs = df['car'].describe() \n",
        "print(efs)\n",
        "n = df.car.count() \n",
        "m_car= df.car.mean()\n",
        "sd_car = df.car.std()\n",
        "\n",
        "x = df['car']\n",
        "plt.hist(x,edgecolor='black', color=\"lightcyan\", bins=10)\n",
        "plt.title(\"Figure 4. Number of parking lots\")\n",
        "plt.ylabel('Frequency')\n",
        "plt.xlabel('Number of parking lots')\n",
        "props = dict(boxstyle='round', facecolor='white',lw=0.5)\n",
        "textstr = '$\\mathrm{Mean}=%.1f$\\n$\\mathrm{S.D.}=%.1f$\\n$\\mathrm{n}=%.0f$'%(m_car, sd_car, n)\n",
        "plt.text (7.5,75000, textstr , bbox=props)\n",
        "plt.axvline(x=m_car, linewidth=2,linestyle= 'solid', color=\"orange\", label='Mean')\n",
        "plt.show()\n",
        "\n",
        "print(df.car.nsmallest(5))"
      ]
    },
    {
      "cell_type": "markdown",
      "metadata": {
        "id": "YlI4hbS1oeFX"
      },
      "source": [
        "La media de todas las casas incluidas en el dataset dispone de 1.9 plazas de párking en los 167760 datos de la muestra. La desviación estándar es de 0.9 . La media de plazas de párking en las viviendas en el dataset es de \"casi\" dos plazas. Hemos comprobado que en el dataset no hay viviendas con ninguna plaza de párking."
      ]
    },
    {
      "cell_type": "markdown",
      "metadata": {
        "id": "Z3is0pNoHvCI"
      },
      "source": [
        "4.4- Variable Property type"
      ]
    },
    {
      "cell_type": "code",
      "execution_count": null,
      "metadata": {
        "colab": {
          "base_uri": "https://localhost:8080/",
          "height": 794
        },
        "id": "9KdTWeiaH7wo",
        "outputId": "e53b1eab-4ca8-4a46-ea81-96089b9802fb"
      },
      "outputs": [
        {
          "output_type": "stream",
          "name": "stdout",
          "text": [
            "col_0                 count\n",
            "propType                   \n",
            "acreage                 0.0\n",
            "duplex/semi-detached    3.4\n",
            "house                  85.2\n",
            "other                   0.2\n",
            "terrace                 0.7\n",
            "townhouse               7.6\n",
            "villa                   2.9\n",
            "warehouse               0.0\n"
          ]
        },
        {
          "output_type": "display_data",
          "data": {
            "image/png": "[encoded data removed]",
            "text/plain": [
              "<Figure size 936x720 with 1 Axes>"
            ]
          },
          "metadata": {
            "needs_background": "light"
          }
        }
      ],
      "source": [
        "mytable = pd.crosstab(df.propType, columns=\"count\", normalize='columns')*100\n",
        "# print(mytable)\n",
        "print (round(mytable,1))\n",
        "# print(mytable.sum())\n",
        "\n",
        "\n",
        "plt.figure(figsize=(13,10))\n",
        "plt.bar(mytable.index, mytable['count'], color=\"lightcyan\", edgecolor='black')\n",
        "plt.xlabel('Property Type')\n",
        "plt.ylabel('Frequency')\n",
        "plt.title('Figure 5. Property type')\n",
        "plt.show()"
      ]
    },
    {
      "cell_type": "markdown",
      "metadata": {
        "id": "gAC_-Z2X07PL"
      },
      "source": [
        "El 85% de las viviendas a la venta pertenecen a la categoría \"houses\", siendo las más relevantes a continuación \"townhouse\" con un 7.6%, \"duplex\" 3.4% y \"villa\" 2.9% en la muestra de datos. En la crosstab anterior se muestran todos los porcentajes de cada tipo de vivienda."
      ]
    },
    {
      "cell_type": "markdown",
      "metadata": {
        "id": "aQ7aD52rAAMQ"
      },
      "source": [
        "4.5- Varaible Date"
      ]
    },
    {
      "cell_type": "code",
      "execution_count": null,
      "metadata": {
        "colab": {
          "base_uri": "https://localhost:8080/",
          "height": 607
        },
        "id": "nSwRAvvQpj1b",
        "outputId": "20437ad9-6d67-40fe-a373-707be5eaa45f"
      },
      "outputs": [
        {
          "output_type": "stream",
          "name": "stdout",
          "text": [
            "<class 'pandas.core.frame.DataFrame'>\n",
            "DatetimeIndex: 167760 entries, 2019-06-19 to 2011-04-16\n",
            "Data columns (total 10 columns):\n",
            " #   Column         Non-Null Count   Dtype   \n",
            "---  ------         --------------   -----   \n",
            " 0   Id             167760 non-null  int64   \n",
            " 1   suburb         167760 non-null  object  \n",
            " 2   postalCode     167760 non-null  int64   \n",
            " 3   sellPrice      167760 non-null  int64   \n",
            " 4   bed            167760 non-null  float64 \n",
            " 5   bath           167760 non-null  int64   \n",
            " 6   car            167760 non-null  float64 \n",
            " 7   propType       167760 non-null  object  \n",
            " 8   sellPrice_str  167760 non-null  object  \n",
            " 9   sellPrice_cat  167760 non-null  category\n",
            "dtypes: category(1), float64(2), int64(4), object(3)\n",
            "memory usage: 13.0+ MB\n",
            "[1287.2154156973697, 1003.1279289714392, 1084.7954517766498, 1209.3762011331446, 1365.6269542262048, 1349.4254834423652, 1442.1767857682562, 1378.5966834834835, 1149.9404806482823]\n"
          ]
        },
        {
          "output_type": "display_data",
          "data": {
            "image/png": "[encoded data removed]",
            "text/plain": [
              "<Figure size 432x288 with 1 Axes>"
            ]
          },
          "metadata": {
            "needs_background": "light"
          }
        }
      ],
      "source": [
        "df.info()\n",
        "\n",
        "m_sellp_11= df['sellPrice']['2011'].mean()/1000\n",
        "m_sellp_12= df['sellPrice']['2012'].mean()/1000\n",
        "m_sellp_13= df['sellPrice']['2013'].mean()/1000\n",
        "m_sellp_14= df['sellPrice']['2014'].mean()/1000\n",
        "m_sellp_15= df['sellPrice']['2015'].mean()/1000\n",
        "m_sellp_16= df['sellPrice']['2016'].mean()/1000\n",
        "m_sellp_17= df['sellPrice']['2017'].mean()/1000\n",
        "m_sellp_18= df['sellPrice']['2018'].mean()/1000\n",
        "m_sellp_19= df['sellPrice']['2019'].mean()/1000\n",
        "# divido por 1000 para cambiar la escala de millones a más pequeña y facilitar la lectura en el gráfico\n",
        "preciomedioyear = [m_sellp_11, m_sellp_12,m_sellp_13,m_sellp_14,m_sellp_15,m_sellp_16,m_sellp_17,m_sellp_18,m_sellp_19,]\n",
        "print(preciomedioyear)\n",
        "\n",
        "n = df.sellPrice.count() \n",
        "\n",
        "bar_list = ['2011', '2012', '2013', '2014', '2015', '2016', '2017', '2018', '2019'] # lista de etiquetas el eje X\n",
        "plt.bar(bar_list, preciomedioyear, edgecolor='black', color='lightcyan') \n",
        "plt.title('Figure 1. Average sell price by year')\n",
        "plt.ylabel('Sell Price x1000$')\n",
        "plt.xlabel('Year')\n",
        "plt.text(1.5, 1400, f'n: {n}')\n",
        "plt.show()"
      ]
    },
    {
      "cell_type": "markdown",
      "metadata": {
        "id": "HWJdXnOdbG9w"
      },
      "source": [
        "Este gráfico muestra la variación del precio de venta de las viviendas durante los años que contiene el dataset.\n",
        "A continuación, con el objetivo de observar mejor las diferencias de los precios de venta según el año, se realiza una ampliación de la escala del eje y."
      ]
    },
    {
      "cell_type": "code",
      "execution_count": null,
      "metadata": {
        "colab": {
          "base_uri": "https://localhost:8080/",
          "height": 295
        },
        "id": "Fm7wZZ592fu9",
        "outputId": "552a3df7-7c22-4f9e-f407-6ff753e3c5ed"
      },
      "outputs": [
        {
          "output_type": "display_data",
          "data": {
            "image/png": "[encoded data removed]",
            "text/plain": [
              "<Figure size 432x288 with 1 Axes>"
            ]
          },
          "metadata": {
            "needs_background": "light"
          }
        }
      ],
      "source": [
        "# Imprimir el gráfico anterior ampliando la escala del eje y para destacar las diferencias\n",
        "n = df.sellPrice.count() \n",
        "\n",
        "bar_list = ['2011', '2012', '2013', '2014', '2015', '2016', '2017', '2018', '2019'] # lista de etiquetas el eje X\n",
        "plt.bar(bar_list, preciomedioyear, edgecolor='black', color='lightcyan') \n",
        "plt.ylim(800,1500)\n",
        "plt.title('Figure 1. Average sell price by year')\n",
        "plt.ylabel('Sell Price x1000$')\n",
        "plt.xlabel('Year')\n",
        "plt.text(1.5, 1430, f'n: {n}')\n",
        "plt.show()"
      ]
    },
    {
      "cell_type": "markdown",
      "metadata": {
        "id": "64zlkFlb29Cj"
      },
      "source": [
        "Puede apreciarse que los precios de venta de las viviendas entre 2011 y 2019 se han mantenido entre 1 millón $  y 1.45 millones $, que representa una variación relativa del 45% entre el año más bajo 2012 y el más caro 2017."
      ]
    },
    {
      "cell_type": "markdown",
      "metadata": {
        "id": "nU5VbYMhJE5k"
      },
      "source": [
        " 4.6- Variable Postal Code"
      ]
    },
    {
      "cell_type": "code",
      "source": [
        "df['cp'] = df['postalCode'].apply(lambda x: int(x/100))\n",
        "df['cp'].unique().tolist()\n",
        "pt = df.groupby(['cp']).size()\n",
        "pt.head()\n",
        "n = pt.sum()\n",
        "pt2 = (pt/n)*100\n",
        "pt2.head()\n",
        "pt3 = round(pt2,0)\n",
        "print(pt3)\n",
        "fig = plt.figure(figsize=(10,5))\n",
        "bar_list = ['21', '20', '27', '25', '22', '42', '45', '30', '33']\n",
        "plt.bar(bar_list, pt3, edgecolor='black', color='lightcyan')\n",
        "plt.title('Figure 9. Porcentaje de ventas por código postal')\n",
        "plt.ylabel('Porcentaje')\n",
        "plt.text(7, 35, f'n: {n}')\n",
        "plt.show()"
      ],
      "metadata": {
        "colab": {
          "base_uri": "https://localhost:8080/",
          "height": 527
        },
        "id": "64kDJcyldIgy",
        "outputId": "56395608-ba84-4093-bc1c-8592deac3189"
      },
      "execution_count": null,
      "outputs": [
        {
          "output_type": "stream",
          "name": "stdout",
          "text": [
            "cp\n",
            "20    32.0\n",
            "21    38.0\n",
            "22    17.0\n",
            "25     7.0\n",
            "27     6.0\n",
            "30     0.0\n",
            "33     0.0\n",
            "42     0.0\n",
            "45     0.0\n",
            "dtype: float64\n"
          ]
        },
        {
          "output_type": "display_data",
          "data": {
            "image/png": "[encoded data removed]",
            "text/plain": [
              "<Figure size 720x360 with 1 Axes>"
            ]
          },
          "metadata": {
            "needs_background": "light"
          }
        }
      ]
    },
    {
      "cell_type": "markdown",
      "source": [
        "Los 5 códigos postales más numerosos, los acabados en 21, 20, 27,25 y 22, son los más numerosos dentro del dataset y aportan el 100% de los datos."
      ],
      "metadata": {
        "id": "PzRi8CYEzlfm"
      }
    },
    {
      "cell_type": "markdown",
      "metadata": {
        "id": "3vE-zdMEvflf"
      },
      "source": [
        "  5. **Hipótesis.**"
      ]
    },
    {
      "cell_type": "markdown",
      "metadata": {
        "id": "Nwg56j16Lu5Q"
      },
      "source": [
        "HIPÓTESIS 1:\n",
        "\n",
        "*   HO: El número de camas no influye en el precio de venta.\n",
        "*   H1: A mayor número de camas, mayor precio de venta.\n",
        "\n",
        "\n"
      ]
    },
    {
      "cell_type": "markdown",
      "metadata": {
        "id": "uV0IbmqGCkf1"
      },
      "source": [
        "En primer lugar, se realiza el estadístico con el objetivo de rechazar la hipótesis nula o aceptarla."
      ]
    },
    {
      "cell_type": "code",
      "execution_count": null,
      "metadata": {
        "colab": {
          "base_uri": "https://localhost:8080/"
        },
        "id": "a_0QlF9jM02K",
        "outputId": "38b5a1f3-4e47-47da-fb92-cca4ccf3098b"
      },
      "outputs": [
        {
          "output_type": "stream",
          "name": "stdout",
          "text": [
            "35.985887091644614 1.749996304901781e-57\n",
            "f: 35.986 , p-val: 1.749996304901781e-57 , n: 167760\n"
          ]
        }
      ],
      "source": [
        "df.loc[ (df['bed']==1.0), \"bed_cat\"]= \"1\" \n",
        "df.loc[ (df['bed']==2.0), \"bed_cat\"]= \"2\" \n",
        "df.loc[ (df['bed']==3.0), \"bed_cat\"]= \"3\" \n",
        "df.loc[ (df['bed']==4.0), \"bed_cat\"]= \"4\" \n",
        "df.loc[ (df['bed']==5.0), \"bed_cat\"]= \"5\" \n",
        "df.loc[ (df['bed']==6.0), \"bed_cat\"]= \"6\" \n",
        "df.loc[ (df['bed']==7.0), \"bed_cat\"]= \"7\" \n",
        "df.loc[ (df['bed']==8.0), \"bed_cat\"]= \"8\"\n",
        "df.loc[ (df['bed']==9.0), \"bed_cat\"]= \"9\"\n",
        "\n",
        "pd.crosstab(df.bed, df.bed_cat)\n",
        "\n",
        "my_categories1=[\"1\",\"2\",\"3\", \"4\", \"5\", \"6\", \"7\", \"8\", \"9\"]\n",
        "\n",
        "my_bed_type = CategoricalDtype(categories=my_categories1, ordered=True) \n",
        "df[\"bed_cat2\"] = df.bed_cat.astype(my_bed_type) \n",
        "df\n",
        "\n",
        "sellPrice_b1=df.loc[df.bed_cat2==\"1\", 'sellPrice']\n",
        "sellPrice_b2=df.loc[df.bed_cat2==\"2\", 'sellPrice']\n",
        "sellPrice_b3=df.loc[df.bed_cat2==\"3\", 'sellPrice']\n",
        "sellPrice_b4=df.loc[df.bed_cat2==\"4\", 'sellPrice']\n",
        "sellPrice_b5=df.loc[df.bed_cat2==\"5\", 'sellPrice']\n",
        "sellPrice_b6=df.loc[df.bed_cat2==\"6\", 'sellPrice']\n",
        "sellPrice_b7=df.loc[df.bed_cat2==\"7\", 'sellPrice']\n",
        "sellPrice_b8=df.loc[df.bed_cat2==\"8\", 'sellPrice']\n",
        "sellPrice_b9=df.loc[df.bed_cat2==\"9\", 'sellPrice']\n",
        "\n",
        "n = df.sellPrice.count() \n",
        "m = round(df.sellPrice.mean(),2)\n",
        "f, p_val =(stats.f_oneway(sellPrice_b1, sellPrice_b2,sellPrice_b3,sellPrice_b4,sellPrice_b5,sellPrice_b6,sellPrice_b7,sellPrice_b8,sellPrice_b9))\n",
        "print(f,p_val)\n",
        "f2 = round(f, 3)\n",
        "p_val2 = round(p_val, 4)\n",
        "print(f'f: {f2} , p-val: {p_val} , n: {n}')"
      ]
    },
    {
      "cell_type": "markdown",
      "metadata": {
        "id": "VkRF9XZ0Cxas"
      },
      "source": [
        "Como se puede observar, la hipótesis nula es rechazada ya que el P-value es menor a 0'05, por lo tanto el precio de las viviendas aumenta si la vivienda dispone de un mayor número de dormitorios."
      ]
    },
    {
      "cell_type": "code",
      "execution_count": null,
      "metadata": {
        "colab": {
          "base_uri": "https://localhost:8080/",
          "height": 382
        },
        "id": "FIczZeo0CS3q",
        "outputId": "85e9bf35-1b81-4dd9-fa45-4d7cd7cc6efe"
      },
      "outputs": [
        {
          "output_type": "execute_result",
          "data": {
            "text/plain": [
              "Text(0.5, 1.0, 'Figure 1. Precio medio por número de habitaciones.\\n')"
            ]
          },
          "metadata": {},
          "execution_count": 74
        },
        {
          "output_type": "display_data",
          "data": {
            "image/png": "[encoded data removed]",
            "text/plain": [
              "<Figure size 360x360 with 1 Axes>"
            ]
          },
          "metadata": {
            "needs_background": "light"
          }
        }
      ],
      "source": [
        "plt.figure(figsize=(5,5))\n",
        "ax = sns.pointplot(x=\"bed_cat2\", y=\"sellPrice\", data=df, capsize=0.05, ci=99.9, join=0) \n",
        "ax.set_ylabel('')\n",
        "plt.yticks(np.arange(600000, 4000000, step=200000))\n",
        "plt.ylim(600000,4000000)\n",
        "plt.axhline(y=df.sellPrice.mean(), linewidth=1,\n",
        "            linestyle= 'dashed',\n",
        "            color=\"green\")\n",
        "props = dict(boxstyle='round', facecolor='white', lw=0.5)\n",
        "plt.text(0, 3256839, f'Mean: {m}\\n n: {n}\\n F: {f2}\\n Pval.: {p_val}', bbox=props)\n",
        "plt.xlabel('Número de habitaciones')\n",
        "plt.ylabel('Precio x 1.000.000 $')\n",
        "plt.title('Figure 10. Precio medio por número de habitaciones.''\\n')\n"
      ]
    },
    {
      "cell_type": "markdown",
      "source": [
        "En este gráfico se puede observar que a mayor número de habitaciones, mayor precio de venta, confirmando la hipótesis alternativa H1 y rechazando la hipótesis nula H0 con p-value < 0,05."
      ],
      "metadata": {
        "id": "cCY29sD9e9yy"
      }
    },
    {
      "cell_type": "markdown",
      "metadata": {
        "id": "XfDeqz1ZuwCx"
      },
      "source": [
        "HIPÓTESIS 2:\n",
        "\n",
        "*   HO: El número de baños no influye en el precio de venta.\n",
        "*   H1: A mayor número de baños, mayor precio de venta.\n"
      ]
    },
    {
      "cell_type": "code",
      "execution_count": null,
      "metadata": {
        "colab": {
          "base_uri": "https://localhost:8080/"
        },
        "id": "a2zOmxZU9bmD",
        "outputId": "7450d5b2-5c7f-494e-f574-161843480cf4"
      },
      "outputs": [
        {
          "output_type": "stream",
          "name": "stdout",
          "text": [
            "{1, 2, 3, 4, 5, 6, 7, 8, 9}\n"
          ]
        }
      ],
      "source": [
        "#Listamos la variable \"bath\"\n",
        "\n",
        "lista = set(df['bath'])\n",
        "print(lista)"
      ]
    },
    {
      "cell_type": "code",
      "execution_count": null,
      "metadata": {
        "id": "VQyMqbqA9buO"
      },
      "outputs": [],
      "source": [
        "# Recodificamos la varibale \"bath\", en la que, se verán representadas el número de baños\n",
        "\n",
        "df.loc[ (df['bath']==1.0), \"bath_cat\"]= \"1\" \n",
        "df.loc[ (df['bath']==2.0), \"bath_cat\"]= \"2\" \n",
        "df.loc[ (df['bath']==3.0), \"bath_cat\"]= \"3\" \n",
        "df.loc[ (df['bath']==4.0), \"bath_cat\"]= \"4\" \n",
        "df.loc[ (df['bath']==5.0), \"bath_cat\"]= \"5\" \n",
        "df.loc[ (df['bath']==6.0), \"bath_cat\"]= \"6\" \n",
        "df.loc[ (df['bath']==7.0), \"bath_cat\"]= \"7\" \n",
        "df.loc[ (df['bath']==8.0), \"bath_cat\"]= \"8\"\n",
        "df.loc[ (df['bath']==8.0), \"bath_cat\"]= \"9\""
      ]
    },
    {
      "cell_type": "code",
      "execution_count": null,
      "metadata": {
        "colab": {
          "base_uri": "https://localhost:8080/",
          "height": 331
        },
        "id": "IvA9uwkj9bwQ",
        "outputId": "80fbcfaa-926e-4751-90bf-b54e7cbfda74"
      },
      "outputs": [
        {
          "output_type": "execute_result",
          "data": {
            "text/html": [
              "\n",
              "  <div id=\"df-d2f21b4d-8839-49ee-af82-05055ada5f46\">\n",
              "    <div class=\"colab-df-container\">\n",
              "      <div>\n",
              "<style scoped>\n",
              "    .dataframe tbody tr th:only-of-type {\n",
              "        vertical-align: middle;\n",
              "    }\n",
              "\n",
              "    .dataframe tbody tr th {\n",
              "        vertical-align: top;\n",
              "    }\n",
              "\n",
              "    .dataframe thead th {\n",
              "        text-align: right;\n",
              "    }\n",
              "</style>\n",
              "<table border=\"1\" class=\"dataframe\">\n",
              "  <thead>\n",
              "    <tr style=\"text-align: right;\">\n",
              "      <th>bath_cat</th>\n",
              "      <th>1</th>\n",
              "      <th>2</th>\n",
              "      <th>3</th>\n",
              "      <th>4</th>\n",
              "      <th>5</th>\n",
              "      <th>6</th>\n",
              "      <th>7</th>\n",
              "      <th>9</th>\n",
              "    </tr>\n",
              "    <tr>\n",
              "      <th>bath</th>\n",
              "      <th></th>\n",
              "      <th></th>\n",
              "      <th></th>\n",
              "      <th></th>\n",
              "      <th></th>\n",
              "      <th></th>\n",
              "      <th></th>\n",
              "      <th></th>\n",
              "    </tr>\n",
              "  </thead>\n",
              "  <tbody>\n",
              "    <tr>\n",
              "      <th>1</th>\n",
              "      <td>61860</td>\n",
              "      <td>0</td>\n",
              "      <td>0</td>\n",
              "      <td>0</td>\n",
              "      <td>0</td>\n",
              "      <td>0</td>\n",
              "      <td>0</td>\n",
              "      <td>0</td>\n",
              "    </tr>\n",
              "    <tr>\n",
              "      <th>2</th>\n",
              "      <td>0</td>\n",
              "      <td>72640</td>\n",
              "      <td>0</td>\n",
              "      <td>0</td>\n",
              "      <td>0</td>\n",
              "      <td>0</td>\n",
              "      <td>0</td>\n",
              "      <td>0</td>\n",
              "    </tr>\n",
              "    <tr>\n",
              "      <th>3</th>\n",
              "      <td>0</td>\n",
              "      <td>0</td>\n",
              "      <td>26647</td>\n",
              "      <td>0</td>\n",
              "      <td>0</td>\n",
              "      <td>0</td>\n",
              "      <td>0</td>\n",
              "      <td>0</td>\n",
              "    </tr>\n",
              "    <tr>\n",
              "      <th>4</th>\n",
              "      <td>0</td>\n",
              "      <td>0</td>\n",
              "      <td>0</td>\n",
              "      <td>5042</td>\n",
              "      <td>0</td>\n",
              "      <td>0</td>\n",
              "      <td>0</td>\n",
              "      <td>0</td>\n",
              "    </tr>\n",
              "    <tr>\n",
              "      <th>5</th>\n",
              "      <td>0</td>\n",
              "      <td>0</td>\n",
              "      <td>0</td>\n",
              "      <td>0</td>\n",
              "      <td>1172</td>\n",
              "      <td>0</td>\n",
              "      <td>0</td>\n",
              "      <td>0</td>\n",
              "    </tr>\n",
              "    <tr>\n",
              "      <th>6</th>\n",
              "      <td>0</td>\n",
              "      <td>0</td>\n",
              "      <td>0</td>\n",
              "      <td>0</td>\n",
              "      <td>0</td>\n",
              "      <td>292</td>\n",
              "      <td>0</td>\n",
              "      <td>0</td>\n",
              "    </tr>\n",
              "    <tr>\n",
              "      <th>7</th>\n",
              "      <td>0</td>\n",
              "      <td>0</td>\n",
              "      <td>0</td>\n",
              "      <td>0</td>\n",
              "      <td>0</td>\n",
              "      <td>0</td>\n",
              "      <td>78</td>\n",
              "      <td>0</td>\n",
              "    </tr>\n",
              "    <tr>\n",
              "      <th>8</th>\n",
              "      <td>0</td>\n",
              "      <td>0</td>\n",
              "      <td>0</td>\n",
              "      <td>0</td>\n",
              "      <td>0</td>\n",
              "      <td>0</td>\n",
              "      <td>0</td>\n",
              "      <td>23</td>\n",
              "    </tr>\n",
              "  </tbody>\n",
              "</table>\n",
              "</div>\n",
              "      <button class=\"colab-df-convert\" onclick=\"convertToInteractive('df-d2f21b4d-8839-49ee-af82-05055ada5f46')\"\n",
              "              title=\"Convert this dataframe to an interactive table.\"\n",
              "              style=\"display:none;\">\n",
              "        \n",
              "  <svg xmlns=\"http://www.w3.org/2000/svg\" height=\"24px\"viewBox=\"0 0 24 24\"\n",
              "       width=\"24px\">\n",
              "    <path d=\"M0 0h24v24H0V0z\" fill=\"none\"/>\n",
              "    <path d=\"M18.56 5.44l.94 2.06.94-2.06 2.06-.94-2.06-.94-.94-2.06-.94 2.06-2.06.94zm-11 1L8.5 8.5l.94-2.06 2.06-.94-2.06-.94L8.5 2.5l-.94 2.06-2.06.94zm10 10l.94 2.06.94-2.06 2.06-.94-2.06-.94-.94-2.06-.94 2.06-2.06.94z\"/><path d=\"M17.41 7.96l-1.37-1.37c-.4-.4-.92-.59-1.43-.59-.52 0-1.04.2-1.43.59L10.3 9.45l-7.72 7.72c-.78.78-.78 2.05 0 2.83L4 21.41c.39.39.9.59 1.41.59.51 0 1.02-.2 1.41-.59l7.78-7.78 2.81-2.81c.8-.78.8-2.07 0-2.86zM5.41 20L4 18.59l7.72-7.72 1.47 1.35L5.41 20z\"/>\n",
              "  </svg>\n",
              "      </button>\n",
              "      \n",
              "  <style>\n",
              "    .colab-df-container {\n",
              "      display:flex;\n",
              "      flex-wrap:wrap;\n",
              "      gap: 12px;\n",
              "    }\n",
              "\n",
              "    .colab-df-convert {\n",
              "      background-color: #E8F0FE;\n",
              "      border: none;\n",
              "      border-radius: 50%;\n",
              "      cursor: pointer;\n",
              "      display: none;\n",
              "      fill: #1967D2;\n",
              "      height: 32px;\n",
              "      padding: 0 0 0 0;\n",
              "      width: 32px;\n",
              "    }\n",
              "\n",
              "    .colab-df-convert:hover {\n",
              "      background-color: #E2EBFA;\n",
              "      box-shadow: 0px 1px 2px rgba(60, 64, 67, 0.3), 0px 1px 3px 1px rgba(60, 64, 67, 0.15);\n",
              "      fill: #174EA6;\n",
              "    }\n",
              "\n",
              "    [theme=dark] .colab-df-convert {\n",
              "      background-color: #3B4455;\n",
              "      fill: #D2E3FC;\n",
              "    }\n",
              "\n",
              "    [theme=dark] .colab-df-convert:hover {\n",
              "      background-color: #434B5C;\n",
              "      box-shadow: 0px 1px 3px 1px rgba(0, 0, 0, 0.15);\n",
              "      filter: drop-shadow(0px 1px 2px rgba(0, 0, 0, 0.3));\n",
              "      fill: #FFFFFF;\n",
              "    }\n",
              "  </style>\n",
              "\n",
              "      <script>\n",
              "        const buttonEl =\n",
              "          document.querySelector('#df-d2f21b4d-8839-49ee-af82-05055ada5f46 button.colab-df-convert');\n",
              "        buttonEl.style.display =\n",
              "          google.colab.kernel.accessAllowed ? 'block' : 'none';\n",
              "\n",
              "        async function convertToInteractive(key) {\n",
              "          const element = document.querySelector('#df-d2f21b4d-8839-49ee-af82-05055ada5f46');\n",
              "          const dataTable =\n",
              "            await google.colab.kernel.invokeFunction('convertToInteractive',\n",
              "                                                     [key], {});\n",
              "          if (!dataTable) return;\n",
              "\n",
              "          const docLinkHtml = 'Like what you see? Visit the ' +\n",
              "            '<a target=\"_blank\" href=https://colab.research.google.com/notebooks/data_table.ipynb>data table notebook</a>'\n",
              "            + ' to learn more about interactive tables.';\n",
              "          element.innerHTML = '';\n",
              "          dataTable['output_type'] = 'display_data';\n",
              "          await google.colab.output.renderOutput(dataTable, element);\n",
              "          const docLink = document.createElement('div');\n",
              "          docLink.innerHTML = docLinkHtml;\n",
              "          element.appendChild(docLink);\n",
              "        }\n",
              "      </script>\n",
              "    </div>\n",
              "  </div>\n",
              "  "
            ],
            "text/plain": [
              "bath_cat      1      2      3     4     5    6   7   9\n",
              "bath                                                  \n",
              "1         61860      0      0     0     0    0   0   0\n",
              "2             0  72640      0     0     0    0   0   0\n",
              "3             0      0  26647     0     0    0   0   0\n",
              "4             0      0      0  5042     0    0   0   0\n",
              "5             0      0      0     0  1172    0   0   0\n",
              "6             0      0      0     0     0  292   0   0\n",
              "7             0      0      0     0     0    0  78   0\n",
              "8             0      0      0     0     0    0   0  23"
            ]
          },
          "metadata": {},
          "execution_count": 23
        }
      ],
      "source": [
        "#Hacemos una tabla cruzada de la variable original contra la nueva para comprobar que está bien hecha\n",
        "\n",
        "pd.crosstab(df.bath, df.bath_cat)  "
      ]
    },
    {
      "cell_type": "code",
      "execution_count": null,
      "metadata": {
        "id": "ScW1DjOH9byz"
      },
      "outputs": [],
      "source": [
        "# Convertimos la variable \"bath_cat\" en una variable categorica\n",
        "\n",
        "#Creamos my_categories que reprensenta las diferentes categorias de nuestra variable \n",
        "my_categories=[\"1\",\"2\",\"3\", \"4\", \"5\", \"6\", \"7\", \"8\",\"9\"]\n",
        "\n",
        "#Definimos el nuevo tipo de dato y le decimos que la lista esta ordenada mediante ordered=true\n",
        "my_pref_mod_type = CategoricalDtype(categories=my_categories, ordered=True) \n",
        "\n",
        "#Forzamos a la variable a ser una variable categorica. Para ello generaramos la nueva columna que va ser las pref_mod_cat_2 forzandola a que sea una varibale categorica \n",
        "df[\"bath_cat2\"] = df.bath_cat.astype(my_pref_mod_type) "
      ]
    },
    {
      "cell_type": "code",
      "execution_count": null,
      "metadata": {
        "colab": {
          "base_uri": "https://localhost:8080/"
        },
        "id": "_R8xbeyl9b2N",
        "outputId": "2bdb3d44-c9d8-4d66-e968-81178c708b2d"
      },
      "outputs": [
        {
          "output_type": "stream",
          "name": "stdout",
          "text": [
            "F_onewayResult(statistic=nan, pvalue=nan)\n"
          ]
        },
        {
          "output_type": "stream",
          "name": "stderr",
          "text": [
            "/usr/local/lib/python3.7/dist-packages/scipy/stats/stats.py:3339: RuntimeWarning: invalid value encountered in double_scalars\n",
            "  ssbn += _square_of_sums(a - offset) / len(a)\n"
          ]
        }
      ],
      "source": [
        "sellPriceB_1=df.loc[df.bath_cat2==\"1\", 'sellPrice']\n",
        "sellPriceB_2=df.loc[df.bath_cat2==\"2\", 'sellPrice']\n",
        "sellPriceB_3=df.loc[df.bath_cat2==\"3\", 'sellPrice']\n",
        "sellPriceB_4=df.loc[df.bath_cat2==\"4\", 'sellPrice']\n",
        "sellPriceB_5=df.loc[df.bath_cat2==\"5\", 'sellPrice']\n",
        "sellPriceB_6=df.loc[df.bath_cat2==\"6\", 'sellPrice']\n",
        "sellPriceB_7=df.loc[df.bath_cat2==\"7\", 'sellPrice']\n",
        "sellPriceB_8=df.loc[df.bath_cat2==\"8\", 'sellPrice']\n",
        "sellPriceB_9=df.loc[df.bath_cat2==\"9\", 'sellPrice']\n",
        "\n",
        "#Obtenermos el PValue mediante el estadistico F \n",
        "res=stats.f_oneway(sellPriceB_1, sellPriceB_2,sellPriceB_3,sellPriceB_4,sellPriceB_5,sellPriceB_6,sellPriceB_7,sellPriceB_8,sellPriceB_9)\n",
        "print(res)\n",
        "n = df.sellPrice.count() "
      ]
    },
    {
      "cell_type": "code",
      "execution_count": null,
      "metadata": {
        "colab": {
          "base_uri": "https://localhost:8080/",
          "height": 382
        },
        "id": "f0Vu5uzZFG6c",
        "outputId": "f42b524d-63c3-499e-ce73-f579db34ef09"
      },
      "outputs": [
        {
          "output_type": "execute_result",
          "data": {
            "text/plain": [
              "Text(0.5, 1.0, 'Figure 1. Precio medio por número de baños.\\n')"
            ]
          },
          "metadata": {},
          "execution_count": 88
        },
        {
          "output_type": "display_data",
          "data": {
            "image/png": "[encoded data removed]",
            "text/plain": [
              "<Figure size 360x360 with 1 Axes>"
            ]
          },
          "metadata": {
            "needs_background": "light"
          }
        }
      ],
      "source": [
        "plt.figure(figsize=(5,5))\n",
        "ax = sns.pointplot(x=\"bath_cat2\", y=\"sellPrice\", data=df, capsize=0.05, ci=99.9, join=0) \n",
        "ax.set_ylabel('')\n",
        "plt.yticks(np.arange(0, 14000000, step=1000000))\n",
        "#plt.ylim(600000,4500000)\n",
        "plt.axhline(y=df.sellPrice.mean(), linewidth=1,\n",
        "            linestyle= 'dashed',\n",
        "            color=\"green\")\n",
        "props = dict(boxstyle='round', facecolor='white', lw=0.5)\n",
        "plt.text(0, 11000000, 'Mean: 1266839''\\n''n: 167760' '\\n' 'F: 17.60''\\n' 'Pval.: 1.63e-26', bbox=props)\n",
        "plt.xlabel('Número de Baños')\n",
        "plt.title('Figure 11. Precio medio por número de baños.''\\n')"
      ]
    },
    {
      "cell_type": "markdown",
      "metadata": {
        "id": "v69gnMd_xn9Q"
      },
      "source": [
        "Sabiendo que el p-value es < 0.05, podemos rechazar con certeza la hipótesis nula de que a mayor número de baños no aumenta el precio de venta. Esto es debido a que el nivel de significatividad es menor o igual al 5%. Es decir, el nº de baños influye claramente en el precio de venta. Otro argumento sería el que hay un 0% de probabilidad de que nuestra hpótesis se deba al azar.\n",
        "\n",
        "Por lo tanto:\n",
        "*   Rechazamos la hipótesis nula\n",
        "*   Aceptamos la hipótesis alternativa, sí influye el nº de baños en el precio de venta de la vivienda.\n",
        "\n"
      ]
    },
    {
      "cell_type": "markdown",
      "metadata": {
        "id": "6xxvQlbh6KkT"
      },
      "source": [
        "HIPÓTESIS 3:\n",
        "\n",
        "*   HO: El número de plazas de garaje no influye en el precio de venta.\n",
        "*   H1: A mayor número de plazas de garaje , mayor precio de venta.\n"
      ]
    },
    {
      "cell_type": "code",
      "execution_count": null,
      "metadata": {
        "colab": {
          "base_uri": "https://localhost:8080/"
        },
        "id": "vyk68IodqoZm",
        "outputId": "53261d49-c8d2-4ab2-8750-24da71838e31"
      },
      "outputs": [
        {
          "output_type": "stream",
          "name": "stdout",
          "text": [
            "{1.0, 2.0, 3.0, 4.0, 1.916531471471077, 5.0, 7.0, 6.0, 9.0, 8.0}\n"
          ]
        }
      ],
      "source": [
        "#Listamos la variable \"car\"\n",
        "\n",
        "lista = set(df['car'])\n",
        "print(lista)"
      ]
    },
    {
      "cell_type": "code",
      "execution_count": null,
      "metadata": {
        "id": "_fIasWh5DHuZ"
      },
      "outputs": [],
      "source": [
        "# Recodificamos la varibale \"car\", en la que, se verán representadas el número de coches\n",
        "\n",
        "df.loc[ (df['car']==1.0), \"car_cat\"]= \"1\" \n",
        "df.loc[ (df['car']==2.0), \"car_cat\"]= \"2\" \n",
        "df.loc[ (df['car']==3.0), \"car_cat\"]= \"3\" \n",
        "df.loc[ (df['car']==4.0), \"car_cat\"]= \"4\" \n",
        "df.loc[ (df['car']==5.0), \"car_cat\"]= \"5\" \n",
        "df.loc[ (df['car']==6.0), \"car_cat\"]= \"6\" \n",
        "df.loc[ (df['car']==7.0), \"car_cat\"]= \"7\" \n",
        "df.loc[ (df['car']==8.0), \"car_cat\"]= \"8\"\n",
        "df.loc[ (df['car']==9.0), \"car_cat\"]= \"9\""
      ]
    },
    {
      "cell_type": "code",
      "execution_count": null,
      "metadata": {
        "colab": {
          "base_uri": "https://localhost:8080/",
          "height": 363
        },
        "id": "UQ3NrRnhE92i",
        "outputId": "5710ddf1-44e9-41e5-c9f2-fbe941380ab0"
      },
      "outputs": [
        {
          "output_type": "execute_result",
          "data": {
            "text/html": [
              "\n",
              "  <div id=\"df-6f0f7960-6834-4f83-bb0c-2550d31bbd05\">\n",
              "    <div class=\"colab-df-container\">\n",
              "      <div>\n",
              "<style scoped>\n",
              "    .dataframe tbody tr th:only-of-type {\n",
              "        vertical-align: middle;\n",
              "    }\n",
              "\n",
              "    .dataframe tbody tr th {\n",
              "        vertical-align: top;\n",
              "    }\n",
              "\n",
              "    .dataframe thead th {\n",
              "        text-align: right;\n",
              "    }\n",
              "</style>\n",
              "<table border=\"1\" class=\"dataframe\">\n",
              "  <thead>\n",
              "    <tr style=\"text-align: right;\">\n",
              "      <th>car_cat</th>\n",
              "      <th>1</th>\n",
              "      <th>2</th>\n",
              "      <th>3</th>\n",
              "      <th>4</th>\n",
              "      <th>5</th>\n",
              "      <th>6</th>\n",
              "      <th>7</th>\n",
              "      <th>8</th>\n",
              "      <th>9</th>\n",
              "    </tr>\n",
              "    <tr>\n",
              "      <th>car</th>\n",
              "      <th></th>\n",
              "      <th></th>\n",
              "      <th></th>\n",
              "      <th></th>\n",
              "      <th></th>\n",
              "      <th></th>\n",
              "      <th></th>\n",
              "      <th></th>\n",
              "      <th></th>\n",
              "    </tr>\n",
              "  </thead>\n",
              "  <tbody>\n",
              "    <tr>\n",
              "      <th>1.0</th>\n",
              "      <td>52320</td>\n",
              "      <td>0</td>\n",
              "      <td>0</td>\n",
              "      <td>0</td>\n",
              "      <td>0</td>\n",
              "      <td>0</td>\n",
              "      <td>0</td>\n",
              "      <td>0</td>\n",
              "      <td>0</td>\n",
              "    </tr>\n",
              "    <tr>\n",
              "      <th>2.0</th>\n",
              "      <td>0</td>\n",
              "      <td>76360</td>\n",
              "      <td>0</td>\n",
              "      <td>0</td>\n",
              "      <td>0</td>\n",
              "      <td>0</td>\n",
              "      <td>0</td>\n",
              "      <td>0</td>\n",
              "      <td>0</td>\n",
              "    </tr>\n",
              "    <tr>\n",
              "      <th>3.0</th>\n",
              "      <td>0</td>\n",
              "      <td>0</td>\n",
              "      <td>13068</td>\n",
              "      <td>0</td>\n",
              "      <td>0</td>\n",
              "      <td>0</td>\n",
              "      <td>0</td>\n",
              "      <td>0</td>\n",
              "      <td>0</td>\n",
              "    </tr>\n",
              "    <tr>\n",
              "      <th>4.0</th>\n",
              "      <td>0</td>\n",
              "      <td>0</td>\n",
              "      <td>0</td>\n",
              "      <td>7469</td>\n",
              "      <td>0</td>\n",
              "      <td>0</td>\n",
              "      <td>0</td>\n",
              "      <td>0</td>\n",
              "      <td>0</td>\n",
              "    </tr>\n",
              "    <tr>\n",
              "      <th>5.0</th>\n",
              "      <td>0</td>\n",
              "      <td>0</td>\n",
              "      <td>0</td>\n",
              "      <td>0</td>\n",
              "      <td>1417</td>\n",
              "      <td>0</td>\n",
              "      <td>0</td>\n",
              "      <td>0</td>\n",
              "      <td>0</td>\n",
              "    </tr>\n",
              "    <tr>\n",
              "      <th>6.0</th>\n",
              "      <td>0</td>\n",
              "      <td>0</td>\n",
              "      <td>0</td>\n",
              "      <td>0</td>\n",
              "      <td>0</td>\n",
              "      <td>1093</td>\n",
              "      <td>0</td>\n",
              "      <td>0</td>\n",
              "      <td>0</td>\n",
              "    </tr>\n",
              "    <tr>\n",
              "      <th>7.0</th>\n",
              "      <td>0</td>\n",
              "      <td>0</td>\n",
              "      <td>0</td>\n",
              "      <td>0</td>\n",
              "      <td>0</td>\n",
              "      <td>0</td>\n",
              "      <td>214</td>\n",
              "      <td>0</td>\n",
              "      <td>0</td>\n",
              "    </tr>\n",
              "    <tr>\n",
              "      <th>8.0</th>\n",
              "      <td>0</td>\n",
              "      <td>0</td>\n",
              "      <td>0</td>\n",
              "      <td>0</td>\n",
              "      <td>0</td>\n",
              "      <td>0</td>\n",
              "      <td>0</td>\n",
              "      <td>243</td>\n",
              "      <td>0</td>\n",
              "    </tr>\n",
              "    <tr>\n",
              "      <th>9.0</th>\n",
              "      <td>0</td>\n",
              "      <td>0</td>\n",
              "      <td>0</td>\n",
              "      <td>0</td>\n",
              "      <td>0</td>\n",
              "      <td>0</td>\n",
              "      <td>0</td>\n",
              "      <td>0</td>\n",
              "      <td>65</td>\n",
              "    </tr>\n",
              "  </tbody>\n",
              "</table>\n",
              "</div>\n",
              "      <button class=\"colab-df-convert\" onclick=\"convertToInteractive('df-6f0f7960-6834-4f83-bb0c-2550d31bbd05')\"\n",
              "              title=\"Convert this dataframe to an interactive table.\"\n",
              "              style=\"display:none;\">\n",
              "        \n",
              "  <svg xmlns=\"http://www.w3.org/2000/svg\" height=\"24px\"viewBox=\"0 0 24 24\"\n",
              "       width=\"24px\">\n",
              "    <path d=\"M0 0h24v24H0V0z\" fill=\"none\"/>\n",
              "    <path d=\"M18.56 5.44l.94 2.06.94-2.06 2.06-.94-2.06-.94-.94-2.06-.94 2.06-2.06.94zm-11 1L8.5 8.5l.94-2.06 2.06-.94-2.06-.94L8.5 2.5l-.94 2.06-2.06.94zm10 10l.94 2.06.94-2.06 2.06-.94-2.06-.94-.94-2.06-.94 2.06-2.06.94z\"/><path d=\"M17.41 7.96l-1.37-1.37c-.4-.4-.92-.59-1.43-.59-.52 0-1.04.2-1.43.59L10.3 9.45l-7.72 7.72c-.78.78-.78 2.05 0 2.83L4 21.41c.39.39.9.59 1.41.59.51 0 1.02-.2 1.41-.59l7.78-7.78 2.81-2.81c.8-.78.8-2.07 0-2.86zM5.41 20L4 18.59l7.72-7.72 1.47 1.35L5.41 20z\"/>\n",
              "  </svg>\n",
              "      </button>\n",
              "      \n",
              "  <style>\n",
              "    .colab-df-container {\n",
              "      display:flex;\n",
              "      flex-wrap:wrap;\n",
              "      gap: 12px;\n",
              "    }\n",
              "\n",
              "    .colab-df-convert {\n",
              "      background-color: #E8F0FE;\n",
              "      border: none;\n",
              "      border-radius: 50%;\n",
              "      cursor: pointer;\n",
              "      display: none;\n",
              "      fill: #1967D2;\n",
              "      height: 32px;\n",
              "      padding: 0 0 0 0;\n",
              "      width: 32px;\n",
              "    }\n",
              "\n",
              "    .colab-df-convert:hover {\n",
              "      background-color: #E2EBFA;\n",
              "      box-shadow: 0px 1px 2px rgba(60, 64, 67, 0.3), 0px 1px 3px 1px rgba(60, 64, 67, 0.15);\n",
              "      fill: #174EA6;\n",
              "    }\n",
              "\n",
              "    [theme=dark] .colab-df-convert {\n",
              "      background-color: #3B4455;\n",
              "      fill: #D2E3FC;\n",
              "    }\n",
              "\n",
              "    [theme=dark] .colab-df-convert:hover {\n",
              "      background-color: #434B5C;\n",
              "      box-shadow: 0px 1px 3px 1px rgba(0, 0, 0, 0.15);\n",
              "      filter: drop-shadow(0px 1px 2px rgba(0, 0, 0, 0.3));\n",
              "      fill: #FFFFFF;\n",
              "    }\n",
              "  </style>\n",
              "\n",
              "      <script>\n",
              "        const buttonEl =\n",
              "          document.querySelector('#df-6f0f7960-6834-4f83-bb0c-2550d31bbd05 button.colab-df-convert');\n",
              "        buttonEl.style.display =\n",
              "          google.colab.kernel.accessAllowed ? 'block' : 'none';\n",
              "\n",
              "        async function convertToInteractive(key) {\n",
              "          const element = document.querySelector('#df-6f0f7960-6834-4f83-bb0c-2550d31bbd05');\n",
              "          const dataTable =\n",
              "            await google.colab.kernel.invokeFunction('convertToInteractive',\n",
              "                                                     [key], {});\n",
              "          if (!dataTable) return;\n",
              "\n",
              "          const docLinkHtml = 'Like what you see? Visit the ' +\n",
              "            '<a target=\"_blank\" href=https://colab.research.google.com/notebooks/data_table.ipynb>data table notebook</a>'\n",
              "            + ' to learn more about interactive tables.';\n",
              "          element.innerHTML = '';\n",
              "          dataTable['output_type'] = 'display_data';\n",
              "          await google.colab.output.renderOutput(dataTable, element);\n",
              "          const docLink = document.createElement('div');\n",
              "          docLink.innerHTML = docLinkHtml;\n",
              "          element.appendChild(docLink);\n",
              "        }\n",
              "      </script>\n",
              "    </div>\n",
              "  </div>\n",
              "  "
            ],
            "text/plain": [
              "car_cat      1      2      3     4     5     6    7    8   9\n",
              "car                                                         \n",
              "1.0      52320      0      0     0     0     0    0    0   0\n",
              "2.0          0  76360      0     0     0     0    0    0   0\n",
              "3.0          0      0  13068     0     0     0    0    0   0\n",
              "4.0          0      0      0  7469     0     0    0    0   0\n",
              "5.0          0      0      0     0  1417     0    0    0   0\n",
              "6.0          0      0      0     0     0  1093    0    0   0\n",
              "7.0          0      0      0     0     0     0  214    0   0\n",
              "8.0          0      0      0     0     0     0    0  243   0\n",
              "9.0          0      0      0     0     0     0    0    0  65"
            ]
          },
          "metadata": {},
          "execution_count": 29
        }
      ],
      "source": [
        "#Hacemos una tabla cruzada de la variable original contra la nueva para comprobar que está bien hecha\n",
        "\n",
        "pd.crosstab(df.car, df.car_cat)  "
      ]
    },
    {
      "cell_type": "code",
      "execution_count": null,
      "metadata": {
        "id": "iOr9aUOhFpn7"
      },
      "outputs": [],
      "source": [
        "# Convertimos la variable \"car_cat\" en una variable categorica\n",
        "\n",
        "#Creamos my_categories que reprensenta las diferentes categorias de nuestra variable \n",
        "my_categories=[\"1\",\"2\",\"3\", \"4\", \"5\", \"6\", \"7\", \"8\", \"9\"]\n",
        "\n",
        "#Definimos el nuevo tipo de dato y le decimos que la lista esta ordenada mediante ordered=true\n",
        "my_pref_mod_type = CategoricalDtype(categories=my_categories, ordered=True) \n",
        "\n",
        "#Forzamos a la variable a ser una variable categorica. Para ello generaramos la nueva columna que va ser las pref_mod_cat_2 forzandola a que sea una varibale categorica \n",
        "df[\"car_cat2\"] = df.car_cat.astype(my_pref_mod_type) "
      ]
    },
    {
      "cell_type": "code",
      "execution_count": null,
      "metadata": {
        "colab": {
          "base_uri": "https://localhost:8080/"
        },
        "id": "1FFuZsOPHe2t",
        "outputId": "6be0ee4d-e1e5-482f-9447-d5246c946fef"
      },
      "outputs": [
        {
          "output_type": "execute_result",
          "data": {
            "text/plain": [
              "Id                  int64\n",
              "suburb             object\n",
              "postalCode          int64\n",
              "sellPrice           int64\n",
              "bed               float64\n",
              "bath                int64\n",
              "car               float64\n",
              "propType           object\n",
              "sellPrice_str      object\n",
              "sellPrice_cat    category\n",
              "cp                  int64\n",
              "bed_cat            object\n",
              "bed_cat2         category\n",
              "bath_cat           object\n",
              "bath_cat2        category\n",
              "car_cat            object\n",
              "car_cat2         category\n",
              "dtype: object"
            ]
          },
          "metadata": {},
          "execution_count": 31
        }
      ],
      "source": [
        "#Comprobamos que la variable \"sellPrice_cat\" se ha convertido en una variable categorica\n",
        "df.dtypes"
      ]
    },
    {
      "cell_type": "code",
      "execution_count": null,
      "metadata": {
        "colab": {
          "base_uri": "https://localhost:8080/"
        },
        "id": "v9JwZZMGLXa8",
        "outputId": "7ed2eb19-8461-43c5-890f-e30abb083b9a"
      },
      "outputs": [
        {
          "output_type": "stream",
          "name": "stdout",
          "text": [
            "F_onewayResult(statistic=12.501446473721707, pvalue=4.308099909117071e-18)\n"
          ]
        }
      ],
      "source": [
        "sellPriceC_1=df.loc[df.car_cat2==\"1\", 'sellPrice']\n",
        "sellPriceC_2=df.loc[df.car_cat2==\"2\", 'sellPrice']\n",
        "sellPriceC_3=df.loc[df.car_cat2==\"3\", 'sellPrice']\n",
        "sellPriceC_4=df.loc[df.car_cat2==\"4\", 'sellPrice']\n",
        "sellPriceC_5=df.loc[df.car_cat2==\"5\", 'sellPrice']\n",
        "sellPriceC_6=df.loc[df.car_cat2==\"6\", 'sellPrice']\n",
        "sellPriceC_7=df.loc[df.car_cat2==\"7\", 'sellPrice']\n",
        "sellPriceC_8=df.loc[df.car_cat2==\"8\", 'sellPrice']\n",
        "sellPriceC_9=df.loc[df.car_cat2==\"9\", 'sellPrice']\n",
        "\n",
        "#Obtenermos el PValue mediante el estadistico F \n",
        "res=stats.f_oneway(sellPriceC_1, sellPriceC_2,sellPriceC_3,sellPriceC_4,sellPriceC_5,sellPriceC_6,sellPriceC_7,sellPriceC_8,sellPriceC_9)\n",
        "print(res)"
      ]
    },
    {
      "cell_type": "markdown",
      "metadata": {
        "id": "rrip30Yyq9PH"
      },
      "source": [
        "Hemos obtenido un Pvalue 1.63e-26 siendo < 0,05, por lo que, la variable predictiva \"car\" tiene impacto sobre la variable target \"sellPrice\". Pudiendo así, extrapolar los resultados obtenidos a la poblacion con una confianza mayor al 95%.\n",
        "\n",
        "Por lo tanto:\n",
        "\n",
        "\n",
        "*   Rechazamos la hipótesis nula\n",
        "*   Aceptamos la hipótesis alternativa, sí influye el nº de plazas de párking en el precio de la vivienda\n",
        "\n",
        "\n"
      ]
    },
    {
      "cell_type": "code",
      "execution_count": null,
      "metadata": {
        "colab": {
          "base_uri": "https://localhost:8080/",
          "height": 382
        },
        "id": "uVv8lgReQapR",
        "outputId": "48d55436-2ea0-45c8-ac12-5030b78af2e1"
      },
      "outputs": [
        {
          "output_type": "execute_result",
          "data": {
            "text/plain": [
              "Text(0.5, 1.0, 'Figure 12. Precio medio por número de garajes.\\n')"
            ]
          },
          "metadata": {},
          "execution_count": 92
        },
        {
          "output_type": "display_data",
          "data": {
            "image/png": "[encoded data removed]",
            "text/plain": [
              "<Figure size 360x360 with 1 Axes>"
            ]
          },
          "metadata": {
            "needs_background": "light"
          }
        }
      ],
      "source": [
        "#Reprensentación Gráfica\n",
        "\n",
        "plt.figure(figsize=(5,5))\n",
        "ax = sns.pointplot(x=\"car_cat2\", y=\"sellPrice\", data=df, capsize=0.05, ci=99.9, join=0) \n",
        "ax.set_ylabel('')\n",
        "plt.yticks(np.arange(0, 5000000, step=500000))\n",
        "#plt.ylim(600000,4000000)\n",
        "plt.axhline(y=df.sellPrice.mean(), linewidth=1,\n",
        "            linestyle= 'dashed',\n",
        "            color=\"green\")\n",
        "props = dict(boxstyle='round', facecolor='white', lw=0.5)\n",
        "plt.text(0, 3256839, 'Mean: 1266839''\\n''n: 167760' '\\n' 'F: 12.50''\\n' 'Pval.: 4.31e-18', bbox=props)\n",
        "plt.xlabel('Número de garajes')\n",
        "plt.ylabel('Precio Venta (Millones $)')\n",
        "plt.title('Figure 12. Precio medio por número de garajes.''\\n')"
      ]
    },
    {
      "cell_type": "markdown",
      "metadata": {
        "id": "I1Fvc8zpBaYO"
      },
      "source": [
        "Gráficamente podemos visualizar de forma más sencilla lo mencionado con anterioridad.\n",
        "Viendo que a mayor número de garajes tenga la casa el precio de venta de esta incrementará. De nuevo rechazando la hipótesis nula y aceptando la alternativa."
      ]
    },
    {
      "cell_type": "markdown",
      "metadata": {
        "id": "Dvp_-8fu2vJA"
      },
      "source": [
        "HIPÓTESIS 4:\n",
        "\n",
        "*   HO: El tipo de casa no influye en el precio de venta.\n",
        "*   H1: El tipo de casa influye en el precio de venta.\n"
      ]
    },
    {
      "cell_type": "markdown",
      "source": [
        "Listamos los tipos de propiedades que existen en el dataframe:"
      ],
      "metadata": {
        "id": "KTCJ9Z5Obve-"
      }
    },
    {
      "cell_type": "code",
      "source": [
        "df['propType'].unique().tolist()"
      ],
      "metadata": {
        "colab": {
          "base_uri": "https://localhost:8080/"
        },
        "id": "4u5EOrdBbxmi",
        "outputId": "5c442376-9c56-4b69-f1cd-1fdd1e0410a8"
      },
      "execution_count": null,
      "outputs": [
        {
          "output_type": "execute_result",
          "data": {
            "text/plain": [
              "['house',\n",
              " 'townhouse',\n",
              " 'duplex/semi-detached',\n",
              " 'villa',\n",
              " 'other',\n",
              " 'terrace',\n",
              " 'warehouse',\n",
              " 'acreage']"
            ]
          },
          "metadata": {},
          "execution_count": 34
        }
      ]
    },
    {
      "cell_type": "markdown",
      "source": [
        "Procedemos a realizar la hipótesis"
      ],
      "metadata": {
        "id": "CcRovQOxb8Xa"
      }
    },
    {
      "cell_type": "code",
      "source": [
        "pt_acreage=df.loc[df.propType == 'acreage', \"sellPrice\"]\n",
        "pt_duplex=df.loc[df.propType == 'duplex/semi-detached', \"sellPrice\"]\n",
        "pt_house=df.loc[df.propType == 'house', \"sellPrice\"]\n",
        "pt_other=df.loc[df.propType == 'other', \"sellPrice\"]\n",
        "pt_terrace=df.loc[df.propType == 'terrace', \"sellPrice\"]\n",
        "pt_townhouse=df.loc[df.propType == 'townhouse', \"sellPrice\"]\n",
        "pt_villa=df.loc[df.propType == 'villa', \"sellPrice\"]\n",
        "pt_warehouse=df.loc[df.propType == 'warehouse', \"sellPrice\"]\n",
        "\n",
        "stats.f_oneway(pt_acreage, pt_duplex, pt_house, pt_other, pt_terrace, pt_townhouse, pt_villa, pt_warehouse)"
      ],
      "metadata": {
        "colab": {
          "base_uri": "https://localhost:8080/"
        },
        "id": "CTeTagOub018",
        "outputId": "05faadec-d479-4daa-c8a6-f27ce8a24978"
      },
      "execution_count": null,
      "outputs": [
        {
          "output_type": "execute_result",
          "data": {
            "text/plain": [
              "F_onewayResult(statistic=8.876839848156234, pvalue=5.6687067168875423e-11)"
            ]
          },
          "metadata": {},
          "execution_count": 35
        }
      ]
    },
    {
      "cell_type": "markdown",
      "source": [
        "Como el p-value es menor que 0,05, se puede decir que la hipótesis nula es rechazada, el tipo de casa sí influye en el precio de venta."
      ],
      "metadata": {
        "id": "O9yVarXAcCnN"
      }
    },
    {
      "cell_type": "code",
      "source": [
        "plt.figure(figsize=(15,5))\n",
        "ax = sns.pointplot(x=\"propType\", y=\"sellPrice\", data=df, capsize=0.05, ci=99.9, join=0)\n",
        "ax.set_ylabel('Precio Venta (Millones $)')\n",
        "plt.yticks(np.arange(0, 3.2e+06, step=2e+05))\n",
        "#plt.ylim(1e+05, 3e+06)\n",
        "plt.axhline(y=df.sellPrice.mean(),linewidth=1,linestyle= 'dashed', color=\"green\")\n",
        "bar_list = [\"Acreage\", \"Duplex.\", \"House\", \"Other\", \"Terra.\", \"TownH.\", \"Villa.\", \"WareH.\"]\n",
        "props = dict(boxstyle='round', facecolor='white', lw=0.5)\n",
        "plt.text(0, 2.4e+6, 'Mean: 1266839''\\n''n: 167760' '\\n' 'F: 8.88' '\\n' 'Pval.: 5.67e-11', bbox=props)\n",
        "plt.xlabel('Tipo de propiedad')\n",
        "plt.title('Figure 13. Precio medio por tipo de propiedad.''\\n')"
      ],
      "metadata": {
        "colab": {
          "base_uri": "https://localhost:8080/",
          "height": 382
        },
        "id": "Xn2leleLcIe6",
        "outputId": "34c9ba2d-4d08-483e-86bc-2bc9e8640ffe"
      },
      "execution_count": null,
      "outputs": [
        {
          "output_type": "execute_result",
          "data": {
            "text/plain": [
              "Text(0.5, 1.0, 'Figure 13. Precio medio por tipo de propiedad.\\n')"
            ]
          },
          "metadata": {},
          "execution_count": 103
        },
        {
          "output_type": "display_data",
          "data": {
            "image/png": "[encoded data removed]",
            "text/plain": [
              "<Figure size 1080x360 with 1 Axes>"
            ]
          },
          "metadata": {
            "needs_background": "light"
          }
        }
      ]
    },
    {
      "cell_type": "markdown",
      "source": [
        "Podemos observar que en los tipos de propiedades townhouse, other, warehouse y acreage tenemos una amplia variación de precios.\n",
        "\n",
        "En cambio, para los tipos de propiedades house, duplex/semi-detached, villa y terrace no hay tanta variación de precio.\n",
        "\n",
        "Este gráfico nos verifica que cada tipo de vivienda tiene unos precios distintos, soportando la H1 de que dependiendo de la vivienda tenemos medias de precio distintas."
      ],
      "metadata": {
        "id": "_9t5BLZxcOGA"
      }
    },
    {
      "cell_type": "markdown",
      "metadata": {
        "id": "NHS918BJvxXb"
      },
      "source": [
        "HIPÓTESIS 5:\n",
        "\n",
        "*   HO: La zona residencial (código postal) no influye en el precio de venta.\n",
        "*   H1: La zona residencial (código postal) influye en el precio de venta."
      ]
    },
    {
      "cell_type": "code",
      "source": [
        "values=[21, 20, 27, 25, 22]\n",
        "filtered_df = df[df.cp.isin(values)]\n",
        "cp_21=filtered_df.loc[filtered_df.cp == 21, \"sellPrice\"]\n",
        "cp_20=filtered_df.loc[filtered_df.cp == 20, \"sellPrice\"]\n",
        "cp_27=filtered_df.loc[filtered_df.cp == 27, \"sellPrice\"]\n",
        "cp_25=filtered_df.loc[filtered_df.cp == 25, \"sellPrice\"]\n",
        "cp_22=filtered_df.loc[filtered_df.cp == 22, \"sellPrice\"]\n",
        "\n",
        "stats.f_oneway(cp_21, cp_20, cp_27, cp_25, cp_22)"
      ],
      "metadata": {
        "colab": {
          "base_uri": "https://localhost:8080/"
        },
        "id": "DFa-9Z2Edf0C",
        "outputId": "a6624fc4-2306-4ec8-d0d8-fffe1627ac5a"
      },
      "execution_count": null,
      "outputs": [
        {
          "output_type": "execute_result",
          "data": {
            "text/plain": [
              "F_onewayResult(statistic=92.4319927036221, pvalue=1.1781091305641855e-78)"
            ]
          },
          "metadata": {},
          "execution_count": 37
        }
      ]
    },
    {
      "cell_type": "markdown",
      "source": [
        "Como podemos observar, el p-value es menor que 0,05, por lo tanto se procede a rechazar la H0, entonces el código postal sí tiene influencia en el precio de venta."
      ],
      "metadata": {
        "id": "rnaXedBodkIA"
      }
    },
    {
      "cell_type": "code",
      "source": [
        "plt.figure(figsize=(10,10))\n",
        "ax = sns.pointplot(x=\"cp\", y=\"sellPrice\", data=filtered_df, capsize=0.05, ci=99.9, join=0)\n",
        "ax.set_ylabel('Precio Venta (Millones $)')\n",
        "plt.yticks(np.arange(0, 3e+06, step=2e+05))\n",
        "plt.ylim(1e+05, 3e+06)\n",
        "plt.axhline(y=df.sellPrice.mean(),linewidth=1,linestyle= 'dashed', color=\"green\")\n",
        "bar_list = [21, 20, 27, 25, 22]\n",
        "props = dict(boxstyle='round', facecolor='white', lw=0.5)\n",
        "plt.text(1.5, 5000, 'Mean: 1266839''\\n''n: 167760' '\\n' 'F: 92.43' '\\n' 'Pval.: 1.18e-78', bbox=props)\n",
        "plt.xlabel('Región por código postal')\n",
        "plt.title('Figure 14. Precio medio por código postal.''\\n')"
      ],
      "metadata": {
        "colab": {
          "base_uri": "https://localhost:8080/",
          "height": 654
        },
        "id": "gjLgFDGxdnul",
        "outputId": "127d1948-2f06-41d2-c032-3b37f00dff46"
      },
      "execution_count": null,
      "outputs": [
        {
          "output_type": "execute_result",
          "data": {
            "text/plain": [
              "Text(0.5, 1.0, 'Figure 14. Precio medio por código postal.\\n')"
            ]
          },
          "metadata": {},
          "execution_count": 105
        },
        {
          "output_type": "display_data",
          "data": {
            "image/png": "[encoded data removed]",
            "text/plain": [
              "<Figure size 720x720 with 1 Axes>"
            ]
          },
          "metadata": {
            "needs_background": "light"
          }
        }
      ]
    },
    {
      "cell_type": "markdown",
      "source": [
        "Podemos observar que la media de los precios pagados por las viviendas dependen del código postal donde se quiera comprar la vivienda. Por lo que se apoya la H1, rechazando la hipótesis nula."
      ],
      "metadata": {
        "id": "EZMS3BIQd6UO"
      }
    },
    {
      "cell_type": "markdown",
      "metadata": {
        "id": "TZUplSNlp8om"
      },
      "source": [
        "6. **Regresión.**"
      ]
    },
    {
      "cell_type": "code",
      "execution_count": null,
      "metadata": {
        "colab": {
          "base_uri": "https://localhost:8080/",
          "height": 294
        },
        "id": "QtG5xqLEqTar",
        "outputId": "0d9803b0-81bd-49b6-905e-49a2ad7fbb7b"
      },
      "outputs": [
        {
          "output_type": "execute_result",
          "data": {
            "text/plain": [
              "<matplotlib.collections.PathCollection at 0x7fb59cc75ad0>"
            ]
          },
          "metadata": {},
          "execution_count": 39
        },
        {
          "output_type": "display_data",
          "data": {
            "image/png": "[encoded data removed]",
            "text/plain": [
              "<Figure size 432x288 with 1 Axes>"
            ]
          },
          "metadata": {
            "needs_background": "light"
          }
        }
      ],
      "source": [
        "plt.scatter(df.bed, df.sellPrice)"
      ]
    },
    {
      "cell_type": "code",
      "execution_count": null,
      "metadata": {
        "colab": {
          "base_uri": "https://localhost:8080/"
        },
        "id": "uAAzIohPq-Nr",
        "outputId": "6189c49f-ba43-4cc6-cf59-e1bd9f4ae66e"
      },
      "outputs": [
        {
          "output_type": "stream",
          "name": "stdout",
          "text": [
            "                    Results: Ordinary least squares\n",
            "=======================================================================\n",
            "Model:                OLS              Adj. R-squared:     0.002       \n",
            "Dependent Variable:   sellPrice        AIC:                5790117.7365\n",
            "Date:                 2021-12-24 09:26 BIC:                5790137.7970\n",
            "No. Observations:     167760           Log-Likelihood:     -2.8951e+06 \n",
            "Df Model:             1                F-statistic:        258.0       \n",
            "Df Residuals:         167758           Prob (F-statistic): 5.29e-58    \n",
            "R-squared:            0.002            Scale:              5.7133e+13  \n",
            "-----------------------------------------------------------------------\n",
            "             Coef.     Std.Err.     t    P>|t|     [0.025      0.975]  \n",
            "-----------------------------------------------------------------------\n",
            "Intercept 204829.7137 68352.6784  2.9967 0.0027  70859.9591 338799.4683\n",
            "bed       301953.1349 18800.4539 16.0609 0.0000 265104.6565 338801.6134\n",
            "-----------------------------------------------------------------------\n",
            "Omnibus:          896272.919    Durbin-Watson:       1.987             \n",
            "Prob(Omnibus):    0.000         Jarque-Bera (JB):    42093503489943.266\n",
            "Skew:             274.220       Prob(JB):            0.000             \n",
            "Kurtosis:         77602.353     Condition No.:       14                \n",
            "=======================================================================\n",
            "\n"
          ]
        }
      ],
      "source": [
        "model1 = ols('sellPrice ~ bed', data=df).fit() # primero la dependiente(target, luego la independiente)\n",
        "\n",
        "print(model1.summary2())"
      ]
    },
    {
      "cell_type": "markdown",
      "metadata": {
        "id": "pQ1h87_PsDqK"
      },
      "source": [
        "El primer modelo de regresión obtiene un p-value < 0,05 por lo tanto la variable BEDS es significativa para el modelo, aunque su relevancia es muy baja, R2 es tan solo de 0.002 .\n",
        "El precio de partida si bed fuera cero sería de 896272 $."
      ]
    },
    {
      "cell_type": "markdown",
      "source": [
        "Ahora, se procede a introducir una segunda variable al modelo de regresión."
      ],
      "metadata": {
        "id": "s0JGO_Elf6nf"
      }
    },
    {
      "cell_type": "code",
      "execution_count": null,
      "metadata": {
        "colab": {
          "base_uri": "https://localhost:8080/"
        },
        "id": "jhLHQuXEsutk",
        "outputId": "ec94afe3-a259-40c1-f62b-0f1148487a96"
      },
      "outputs": [
        {
          "output_type": "stream",
          "name": "stdout",
          "text": [
            "                    Results: Ordinary least squares\n",
            "=======================================================================\n",
            "Model:                OLS              Adj. R-squared:     0.003       \n",
            "Dependent Variable:   sellPrice        AIC:                5789894.0467\n",
            "Date:                 2021-12-24 09:26 BIC:                5789924.1376\n",
            "No. Observations:     167760           Log-Likelihood:     -2.8949e+06 \n",
            "Df Model:             2                F-statistic:        242.1       \n",
            "Df Residuals:         167757           Prob (F-statistic): 1.05e-105   \n",
            "R-squared:            0.003            Scale:              5.7057e+13  \n",
            "-----------------------------------------------------------------------\n",
            "             Coef.     Std.Err.     t    P>|t|     [0.025      0.975]  \n",
            "-----------------------------------------------------------------------\n",
            "Intercept 263107.9957 68416.9146  3.8457 0.0001 129012.3397 397203.6518\n",
            "bed        56151.4770 24910.1284  2.2542 0.0242   7328.1701 104974.7838\n",
            "bath      426352.5717 28370.7453 15.0279 0.0000 370746.5316 481958.6119\n",
            "-----------------------------------------------------------------------\n",
            "Omnibus:          896810.488    Durbin-Watson:       1.988             \n",
            "Prob(Omnibus):    0.000         Jarque-Bera (JB):    42341133084736.859\n",
            "Skew:             274.822       Prob(JB):            0.000             \n",
            "Kurtosis:         77830.274     Condition No.:       16                \n",
            "=======================================================================\n",
            "\n"
          ]
        }
      ],
      "source": [
        "model2 = ols('sellPrice ~ bed + bath', data=df).fit() \n",
        "\n",
        "print(model2.summary2())"
      ]
    },
    {
      "cell_type": "markdown",
      "metadata": {
        "id": "xMaPm6pQtFPv"
      },
      "source": [
        "Añadiendo una segunda variable, BATH (nº de baños) a BED (nº habitaciones) el modelo mejora muy ligeramente. R2 cambia de 0.002 a 0.003 .\n",
        "Ambas variables bath y bed son significativas con p-value < 0.05 aunque el p-value de bed empeora de 0,000 a 0,0242 .\n",
        "El precio de partida si bed y bath son cero sería de 896810 $, muy similar al modelo 1."
      ]
    },
    {
      "cell_type": "markdown",
      "source": [
        "Ahora, se introduce una tercera variable al modelo de regresión."
      ],
      "metadata": {
        "id": "yx3OyjIwgDwJ"
      }
    },
    {
      "cell_type": "code",
      "execution_count": null,
      "metadata": {
        "colab": {
          "base_uri": "https://localhost:8080/"
        },
        "id": "MzdaO--jtsfp",
        "outputId": "bf4851d1-8a7a-4a63-e041-914d835d07be"
      },
      "outputs": [
        {
          "output_type": "stream",
          "name": "stdout",
          "text": [
            "                    Results: Ordinary least squares\n",
            "=======================================================================\n",
            "Model:                OLS              Adj. R-squared:     0.003       \n",
            "Dependent Variable:   sellPrice        AIC:                5789886.2551\n",
            "Date:                 2021-12-24 09:26 BIC:                5789926.3763\n",
            "No. Observations:     167760           Log-Likelihood:     -2.8949e+06 \n",
            "Df Model:             3                F-statistic:        164.7       \n",
            "Df Residuals:         167756           Prob (F-statistic): 1.40e-106   \n",
            "R-squared:            0.003            Scale:              5.7054e+13  \n",
            "-----------------------------------------------------------------------\n",
            "             Coef.     Std.Err.     t    P>|t|     [0.025      0.975]  \n",
            "-----------------------------------------------------------------------\n",
            "Intercept 203486.2313 71018.8021  2.8652 0.0042  64290.9326 342681.5300\n",
            "bed        43013.3917 25260.8450  1.7028 0.0886  -6497.3119  92524.0953\n",
            "bath      414368.3139 28627.3459 14.4746 0.0000 358259.3422 470477.2857\n",
            "car        66872.1946 21370.7025  3.1292 0.0018  24986.0852 108758.3040\n",
            "-----------------------------------------------------------------------\n",
            "Omnibus:          896833.337    Durbin-Watson:       1.988             \n",
            "Prob(Omnibus):    0.000         Jarque-Bera (JB):    42351675352066.961\n",
            "Skew:             274.847       Prob(JB):            0.000             \n",
            "Kurtosis:         77839.963     Condition No.:       19                \n",
            "=======================================================================\n",
            "\n"
          ]
        }
      ],
      "source": [
        "model3 = ols('sellPrice ~ bed + bath + car', data=df).fit() \n",
        "\n",
        "print(model3.summary2())"
      ]
    },
    {
      "cell_type": "markdown",
      "metadata": {
        "id": "i14KjUadt9lf"
      },
      "source": [
        "Al añadir una tercera variable bed, bath, car, al modelo de regresión para predecir el precio de venta de las viviendas en Sidney, apenas mejora respecto al anterior modelo con dos variables.\n",
        "R2 se mantiene en 0.003 .\n",
        "La variable bed deja de ser significativa al obtener un p-value de 0.0886 que es mayor de 0,05.\n",
        "El precio de partida si bed, bath y car son cero sería de 203486 $, disminuyendo mucho desde el modelo 1 y 2, por lo que parece que la introducción de la variable CAR distorsiona el modelo y no es útil."
      ]
    }
  ],
  "metadata": {
    "colab": {
      "collapsed_sections": [],
      "name": "Trabajo grupo 5.ipynb",
      "provenance": [],
      "include_colab_link": true
    },
    "kernelspec": {
      "display_name": "Python 3",
      "name": "python3"
    },
    "language_info": {
      "name": "python"
    }
  },
  "nbformat": 4,
  "nbformat_minor": 0
}